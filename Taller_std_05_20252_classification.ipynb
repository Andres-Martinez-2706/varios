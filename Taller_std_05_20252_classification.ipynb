{
 "cells": [
  {
   "cell_type": "markdown",
   "metadata": {
    "id": "grKZ7Xesyjm0"
   },
   "source": [
    "<img src=\"https://gitlab.com/bivl2ab/academico/cursos-uis/ai/ai-uis-student/raw/master/imgs/banner_IA.png\"  width=\"1000px\" height=\"200px\">\n",
    "\n",
    "# **Taller 05:  Classification**\n",
    "\n",
    "## **Outline**\n",
    "\n",
    "1. [Ejercicio 1.](#eje1)\n",
    "2. [Ejercicio 2.](#eje2)\n",
    "3. [Ejercicio 3.](#eje3)\n",
    "4. [Ejercicio 4.](#eje4)\n",
    "5. [Ejercicio 5.](#eje5)\n",
    "\n"
   ]
  },
  {
   "cell_type": "code",
   "execution_count": 1,
   "metadata": {
    "colab": {
     "base_uri": "https://localhost:8080/",
     "height": 35
    },
    "executionInfo": {
     "elapsed": 59,
     "status": "ok",
     "timestamp": 1759420952921,
     "user": {
      "displayName": "jean carlos portilla",
      "userId": "02695729185455730734"
     },
     "user_tz": 300
    },
    "id": "Ic9xabc8Hvy2",
    "outputId": "2a9a7e51-c472-48d5-e3b4-bf605a4bab70"
   },
   "outputs": [
    {
     "data": {
      "text/plain": [
       "\"\\nPut your student ID here\\n\\nExample: student_id =  '2152145'\\n\""
      ]
     },
     "execution_count": 1,
     "metadata": {},
     "output_type": "execute_result"
    }
   ],
   "source": [
    "#@title **Execute this cell**\n",
    "#@markdown Please include your student id\n",
    "import sys\n",
    "import inspect\n",
    "\n",
    "group_id = \"IA1-20252-G1\" #@param {type:\"string\"}\n",
    "assignment_id = group_id +'.taller_classification'\n",
    "student_id = \"2225112\" #@param {type:\"string\"}\n",
    "\"\"\"\n",
    "Put your student ID here\n",
    "\n",
    "Example: student_id =  '2152145'\n",
    "\"\"\""
   ]
  },
  {
   "cell_type": "code",
   "execution_count": 2,
   "metadata": {
    "id": "HoNtDObzy4d-"
   },
   "outputs": [],
   "source": [
    " #@title **Execute this cell**\n",
    "#@markdown **UTILS**\n",
    "#@markdown Please dont modify any line in this cell\n",
    "\n",
    "import os\n",
    "import json\n",
    "import requests\n",
    "from collections import namedtuple\n",
    "\n",
    "\n",
    "Config = namedtuple('Config', ['server_name'])\n",
    "config = Config(server_name='https://bivlabgrader.azurewebsites.net/api')\n",
    "\n",
    "\n",
    "def check_solution_and_evaluate(assignment_id: str, student_func_str: str):\n",
    "\n",
    "    # Set the endpoint and payload.\n",
    "    payload = {\n",
    "        'func_str': student_func_str,\n",
    "        'assignment_id': assignment_id,\n",
    "        'student_id': student_id\n",
    "    }\n",
    "    endpoint_url = config.server_name + '/CheckAndEvaluateSolution'\n",
    "    # print(endpoint_url)\n",
    "\n",
    "    # Make request to server with the data coming from the notebook.\n",
    "    r = requests.post(endpoint_url, params=payload)\n",
    "    print(r.text)\n",
    "    pprint_json_response(r.json())\n",
    "    return r\n",
    "\n",
    "\n",
    "def pprint_json_response(response, indent=0):\n",
    "    \"\"\"Pretty print the response.\"\"\"\n",
    "    for key, value in response.items():\n",
    "        print('\\t' * indent + str(key.capitalize()))\n",
    "\n",
    "        # If dictionary, do a recurrent call.\n",
    "        if isinstance(value, dict):\n",
    "            pprint_json_response(value, indent + 1)\n",
    "        else:\n",
    "            # Enumerate elements if list.\n",
    "            if isinstance(value, list):\n",
    "                if len(value) == 1:\n",
    "                    print('\\t' * (indent + 1) + str(value[0]))\n",
    "                else:\n",
    "                    for i, e in enumerate(value, start=1):\n",
    "                        print('\\t' * (indent + 1) + f'{i}. {e}')\n",
    "            else:\n",
    "                print('\\t' * (indent + 1) + str(value))"
   ]
  },
  {
   "cell_type": "code",
   "execution_count": 3,
   "metadata": {
    "id": "aEJwAMtC0KOp"
   },
   "outputs": [],
   "source": [
    "#@title **Import libraries**\n",
    "\n",
    "import matplotlib.pyplot as plt\n",
    "import numpy as np\n",
    "np.random.seed(21)\n",
    "\n",
    "import warnings\n",
    "warnings.filterwarnings('ignore')"
   ]
  },
  {
   "cell_type": "markdown",
   "metadata": {
    "id": "x_6ht_FU3Ycj"
   },
   "source": [
    "---\n",
    "# **Ejercicio 1**  <a name=\"eje1\"></a>\n",
    "---"
   ]
  },
  {
   "cell_type": "markdown",
   "metadata": {
    "id": "s2thz25v3b68"
   },
   "source": [
    "# Clasificación\n",
    "\n",
    "## Contexto\n",
    "El dataset \"Dogs of Zurich\" (https://www.kaggle.com/datasets/kmader/dogs-of-zurich) contiene información sobre datos de dueños y mascotas en la ciudad de Zurich."
   ]
  },
  {
   "cell_type": "code",
   "execution_count": 4,
   "metadata": {
    "colab": {
     "base_uri": "https://localhost:8080/",
     "height": 206
    },
    "executionInfo": {
     "elapsed": 1733,
     "status": "ok",
     "timestamp": 1759421075673,
     "user": {
      "displayName": "jean carlos portilla",
      "userId": "02695729185455730734"
     },
     "user_tz": 300
    },
    "id": "UfFfkY_49NL6",
    "outputId": "51e0c2a0-a794-4cbd-8171-822a9b588bc6"
   },
   "outputs": [
    {
     "data": {
      "text/html": [
       "<div>\n",
       "<style scoped>\n",
       "    .dataframe tbody tr th:only-of-type {\n",
       "        vertical-align: middle;\n",
       "    }\n",
       "\n",
       "    .dataframe tbody tr th {\n",
       "        vertical-align: top;\n",
       "    }\n",
       "\n",
       "    .dataframe thead th {\n",
       "        text-align: right;\n",
       "    }\n",
       "</style>\n",
       "<table border=\"1\" class=\"dataframe\">\n",
       "  <thead>\n",
       "    <tr style=\"text-align: right;\">\n",
       "      <th></th>\n",
       "      <th>HALTER_ID</th>\n",
       "      <th>ALTER</th>\n",
       "      <th>GESCHLECHT</th>\n",
       "      <th>STADTKREIS</th>\n",
       "      <th>STADTQUARTIER</th>\n",
       "      <th>RASSE1</th>\n",
       "      <th>RASSENTYP</th>\n",
       "      <th>GEBURTSJAHR_HUND</th>\n",
       "      <th>GESCHLECHT_HUND</th>\n",
       "      <th>HUNDEFARBE</th>\n",
       "    </tr>\n",
       "  </thead>\n",
       "  <tbody>\n",
       "    <tr>\n",
       "      <th>0</th>\n",
       "      <td>126</td>\n",
       "      <td>51-60</td>\n",
       "      <td>m</td>\n",
       "      <td>9.0</td>\n",
       "      <td>92.0</td>\n",
       "      <td>Welsh Terrier</td>\n",
       "      <td>K</td>\n",
       "      <td>2011</td>\n",
       "      <td>w</td>\n",
       "      <td>schwarz/braun</td>\n",
       "    </tr>\n",
       "    <tr>\n",
       "      <th>1</th>\n",
       "      <td>171</td>\n",
       "      <td>61-70</td>\n",
       "      <td>m</td>\n",
       "      <td>3.0</td>\n",
       "      <td>31.0</td>\n",
       "      <td>Berner Sennenhund</td>\n",
       "      <td>I</td>\n",
       "      <td>2009</td>\n",
       "      <td>m</td>\n",
       "      <td>tricolor</td>\n",
       "    </tr>\n",
       "    <tr>\n",
       "      <th>2</th>\n",
       "      <td>574</td>\n",
       "      <td>61-70</td>\n",
       "      <td>w</td>\n",
       "      <td>2.0</td>\n",
       "      <td>23.0</td>\n",
       "      <td>Cairn Terrier</td>\n",
       "      <td>K</td>\n",
       "      <td>2002</td>\n",
       "      <td>w</td>\n",
       "      <td>brindle</td>\n",
       "    </tr>\n",
       "    <tr>\n",
       "      <th>3</th>\n",
       "      <td>695</td>\n",
       "      <td>41-50</td>\n",
       "      <td>m</td>\n",
       "      <td>6.0</td>\n",
       "      <td>63.0</td>\n",
       "      <td>Labrador Retriever</td>\n",
       "      <td>I</td>\n",
       "      <td>2012</td>\n",
       "      <td>w</td>\n",
       "      <td>braun</td>\n",
       "    </tr>\n",
       "    <tr>\n",
       "      <th>4</th>\n",
       "      <td>893</td>\n",
       "      <td>61-70</td>\n",
       "      <td>w</td>\n",
       "      <td>7.0</td>\n",
       "      <td>71.0</td>\n",
       "      <td>Mittelschnauzer</td>\n",
       "      <td>I</td>\n",
       "      <td>2010</td>\n",
       "      <td>w</td>\n",
       "      <td>schwarz</td>\n",
       "    </tr>\n",
       "  </tbody>\n",
       "</table>\n",
       "</div>"
      ],
      "text/plain": [
       "   HALTER_ID  ALTER GESCHLECHT  STADTKREIS  STADTQUARTIER              RASSE1  \\\n",
       "0        126  51-60          m         9.0           92.0       Welsh Terrier   \n",
       "1        171  61-70          m         3.0           31.0   Berner Sennenhund   \n",
       "2        574  61-70          w         2.0           23.0       Cairn Terrier   \n",
       "3        695  41-50          m         6.0           63.0  Labrador Retriever   \n",
       "4        893  61-70          w         7.0           71.0     Mittelschnauzer   \n",
       "\n",
       "  RASSENTYP  GEBURTSJAHR_HUND GESCHLECHT_HUND     HUNDEFARBE  \n",
       "0         K              2011               w  schwarz/braun  \n",
       "1         I              2009               m       tricolor  \n",
       "2         K              2002               w        brindle  \n",
       "3         I              2012               w          braun  \n",
       "4         I              2010               w        schwarz  "
      ]
     },
     "execution_count": 4,
     "metadata": {},
     "output_type": "execute_result"
    }
   ],
   "source": [
    "import pandas as pd\n",
    "df = pd.read_csv(\"https://drive.google.com/uc?id=1z0DCJFIFyLIObEBjhsm66RoVwRq7YYoj\", sep=\";\")\n",
    "df.head()"
   ]
  },
  {
   "cell_type": "markdown",
   "metadata": {
    "id": "ETWpO6tr9Za5"
   },
   "source": [
    "## Tu tarea\n",
    "Desarrolle una función que **reciba** un dataset (`df`) y que:\n",
    "- Elimine los valores nulos del dataset.\n",
    "- Considere como ground truth a la columna [\"GESCHLECHT\"] (el género del dueño de la mascota).\n",
    "- Elimine a las columnas `[\"HALTER_ID\", \"ALTER\", \"STADTKREIS\", \"STADTQUARTIER\"]`\n",
    "- Reemplace los valores \"m\" por cero (0), y \"w\" por uno (1).\n",
    "- Convierta las columnas categóricas `[\"RASSE1\"], [\"RASSENTYP\"], [\"HUNDEFARBE\"]` a numéricas.\n",
    "- Destine un 80% del dataset para el proceso de entrenamiento, usando también el parámetro `random_state=21`\n",
    "- Entrene un estimador `RandomForestClassifier` con parámetros `n_estimators=100` y `random_state=21`\n",
    "- **Devuelva** el `accuracy_score`\n",
    "\n",
    "<br>\n",
    "\n",
    "<ins>**Nota:**</ins> puede utilizar la función `pd.factorize` de pandas para convertir columnas categóricas, a numéricas:\n",
    "\n",
    "https://pandas.pydata.org/docs/reference/api/pandas.factorize.html"
   ]
  },
  {
   "cell_type": "code",
   "execution_count": 5,
   "metadata": {
    "id": "Om0rxBun3Wex"
   },
   "outputs": [],
   "source": [
    "#@title **code student**\n",
    "\n",
    "def taller05_20252_p01(df):\n",
    "    import pandas as pd\n",
    "    import numpy as np\n",
    "    np.random.seed(21)\n",
    "    from sklearn.ensemble import RandomForestClassifier\n",
    "    from sklearn.model_selection import train_test_split\n",
    "    from sklearn.metrics import accuracy_score\n",
    "\n",
    "    \n",
    "    est = RandomForestClassifier(n_estimators=100, random_state=21)\n",
    "    \n",
    "    \n",
    "    df = df.dropna().copy()\n",
    "    df = df.drop([\"HALTER_ID\", \"ALTER\", \"STADTKREIS\", \"STADTQUARTIER\"], axis=1)\n",
    "    \n",
    "    df[\"GESCHLECHT\"] = df[\"GESCHLECHT\"].replace({\"m\": 0, \"w\": 1})\n",
    "    df[\"GESCHLECHT_HUND\"] = df[\"GESCHLECHT_HUND\"].replace({\"m\": 0, \"w\": 1})\n",
    "    \n",
    "    df[\"RASSE1\"] = df[\"RASSE1\"].factorize()[0]\n",
    "    df[\"RASSENTYP\"] = df[\"RASSENTYP\"].factorize()[0]\n",
    "    df[\"HUNDEFARBE\"] = df[\"HUNDEFARBE\"].factorize()[0]\n",
    "    \n",
    "    y = df[\"GESCHLECHT\"]\n",
    "    x = df.drop(\"GESCHLECHT\", axis=1)\n",
    "    \n",
    "    X_train, X_test, y_train, y_test = train_test_split(x, y, test_size=0.2, random_state=21)\n",
    "    \n",
    "    est.fit(X_train, y_train)\n",
    "\n",
    "    acc_score = accuracy_score(est.predict(X_test), y_test)\n",
    "\n",
    "    return acc_score"
   ]
  },
  {
   "cell_type": "code",
   "execution_count": 6,
   "metadata": {
    "id": "yCThRZ-QEZc0"
   },
   "outputs": [
    {
     "data": {
      "text/plain": [
       "0.6096681096681097"
      ]
     },
     "execution_count": 6,
     "metadata": {},
     "output_type": "execute_result"
    }
   ],
   "source": [
    "#@title **check your answer**\n",
    "import pandas as pd\n",
    "\n",
    "df = pd.read_csv(\"https://drive.google.com/uc?id=1z0DCJFIFyLIObEBjhsm66RoVwRq7YYoj\", sep=\";\")\n",
    "taller05_20252_p01(df)"
   ]
  },
  {
   "cell_type": "markdown",
   "metadata": {
    "id": "EjngkljNQ6Jy"
   },
   "source": [
    "## ✅ Salidas esperadas\n",
    "\n",
    "0.6096681096681097"
   ]
  },
  {
   "cell_type": "code",
   "execution_count": 7,
   "metadata": {
    "id": "27D6EuJ74pw-"
   },
   "outputs": [
    {
     "name": "stdout",
     "output_type": "stream",
     "text": [
      "{\n",
      "    \"score\": 5.0,\n",
      "    \"message\": [\n",
      "        \"Excellent, you got the highest score.\"\n",
      "    ],\n",
      "    \"status\": \"You have achieved your best score: 5.0\"\n",
      "}\n",
      "Score\n",
      "\t5.0\n",
      "Message\n",
      "\tExcellent, you got the highest score.\n",
      "Status\n",
      "\tYou have achieved your best score: 5.0\n"
     ]
    }
   ],
   "source": [
    "#@title **send your answer**\n",
    "student_func_str = inspect.getsource(taller05_20252_p01)\n",
    "r = check_solution_and_evaluate(assignment_id, student_func_str)"
   ]
  },
  {
   "cell_type": "markdown",
   "metadata": {
    "id": "xi09XP3ZAiiP"
   },
   "source": [
    "---\n",
    "# **Ejercicio 2**  <a name=\"eje2\"></a>\n",
    "---"
   ]
  },
  {
   "cell_type": "markdown",
   "metadata": {
    "id": "h1pqchILAoQv"
   },
   "source": [
    "# Clasificación\n",
    "\n",
    "## Contexto\n",
    "El dataset \"80 Cereals\" (https://www.kaggle.com/datasets/crawford/80-cereals) contiene información sobre distintas marcas de cereales, sus fabricantes, información nutricional, entre otros."
   ]
  },
  {
   "cell_type": "code",
   "execution_count": 8,
   "metadata": {
    "colab": {
     "base_uri": "https://localhost:8080/",
     "height": 206
    },
    "executionInfo": {
     "elapsed": 863,
     "status": "ok",
     "timestamp": 1759421604652,
     "user": {
      "displayName": "jean carlos portilla",
      "userId": "02695729185455730734"
     },
     "user_tz": 300
    },
    "id": "T1fBoR79930x",
    "outputId": "82a7b36c-955b-4853-d140-34208de08a3d"
   },
   "outputs": [
    {
     "data": {
      "text/html": [
       "<div>\n",
       "<style scoped>\n",
       "    .dataframe tbody tr th:only-of-type {\n",
       "        vertical-align: middle;\n",
       "    }\n",
       "\n",
       "    .dataframe tbody tr th {\n",
       "        vertical-align: top;\n",
       "    }\n",
       "\n",
       "    .dataframe thead th {\n",
       "        text-align: right;\n",
       "    }\n",
       "</style>\n",
       "<table border=\"1\" class=\"dataframe\">\n",
       "  <thead>\n",
       "    <tr style=\"text-align: right;\">\n",
       "      <th></th>\n",
       "      <th>name</th>\n",
       "      <th>mfr</th>\n",
       "      <th>type</th>\n",
       "      <th>calories</th>\n",
       "      <th>protein</th>\n",
       "      <th>fat</th>\n",
       "      <th>sodium</th>\n",
       "      <th>fiber</th>\n",
       "      <th>carbo</th>\n",
       "      <th>sugars</th>\n",
       "      <th>potass</th>\n",
       "      <th>vitamins</th>\n",
       "      <th>shelf</th>\n",
       "      <th>weight</th>\n",
       "      <th>cups</th>\n",
       "      <th>rating</th>\n",
       "    </tr>\n",
       "  </thead>\n",
       "  <tbody>\n",
       "    <tr>\n",
       "      <th>0</th>\n",
       "      <td>100% Bran</td>\n",
       "      <td>N</td>\n",
       "      <td>C</td>\n",
       "      <td>70</td>\n",
       "      <td>4</td>\n",
       "      <td>1</td>\n",
       "      <td>130</td>\n",
       "      <td>10.0</td>\n",
       "      <td>5.0</td>\n",
       "      <td>6</td>\n",
       "      <td>280</td>\n",
       "      <td>25</td>\n",
       "      <td>3</td>\n",
       "      <td>1.0</td>\n",
       "      <td>0.33</td>\n",
       "      <td>68.402973</td>\n",
       "    </tr>\n",
       "    <tr>\n",
       "      <th>1</th>\n",
       "      <td>100% Natural Bran</td>\n",
       "      <td>Q</td>\n",
       "      <td>C</td>\n",
       "      <td>120</td>\n",
       "      <td>3</td>\n",
       "      <td>5</td>\n",
       "      <td>15</td>\n",
       "      <td>2.0</td>\n",
       "      <td>8.0</td>\n",
       "      <td>8</td>\n",
       "      <td>135</td>\n",
       "      <td>0</td>\n",
       "      <td>3</td>\n",
       "      <td>1.0</td>\n",
       "      <td>1.00</td>\n",
       "      <td>33.983679</td>\n",
       "    </tr>\n",
       "    <tr>\n",
       "      <th>2</th>\n",
       "      <td>All-Bran</td>\n",
       "      <td>K</td>\n",
       "      <td>C</td>\n",
       "      <td>70</td>\n",
       "      <td>4</td>\n",
       "      <td>1</td>\n",
       "      <td>260</td>\n",
       "      <td>9.0</td>\n",
       "      <td>7.0</td>\n",
       "      <td>5</td>\n",
       "      <td>320</td>\n",
       "      <td>25</td>\n",
       "      <td>3</td>\n",
       "      <td>1.0</td>\n",
       "      <td>0.33</td>\n",
       "      <td>59.425505</td>\n",
       "    </tr>\n",
       "    <tr>\n",
       "      <th>3</th>\n",
       "      <td>All-Bran with Extra Fiber</td>\n",
       "      <td>K</td>\n",
       "      <td>C</td>\n",
       "      <td>50</td>\n",
       "      <td>4</td>\n",
       "      <td>0</td>\n",
       "      <td>140</td>\n",
       "      <td>14.0</td>\n",
       "      <td>8.0</td>\n",
       "      <td>0</td>\n",
       "      <td>330</td>\n",
       "      <td>25</td>\n",
       "      <td>3</td>\n",
       "      <td>1.0</td>\n",
       "      <td>0.50</td>\n",
       "      <td>93.704912</td>\n",
       "    </tr>\n",
       "    <tr>\n",
       "      <th>4</th>\n",
       "      <td>Almond Delight</td>\n",
       "      <td>R</td>\n",
       "      <td>C</td>\n",
       "      <td>110</td>\n",
       "      <td>2</td>\n",
       "      <td>2</td>\n",
       "      <td>200</td>\n",
       "      <td>1.0</td>\n",
       "      <td>14.0</td>\n",
       "      <td>8</td>\n",
       "      <td>-1</td>\n",
       "      <td>25</td>\n",
       "      <td>3</td>\n",
       "      <td>1.0</td>\n",
       "      <td>0.75</td>\n",
       "      <td>34.384843</td>\n",
       "    </tr>\n",
       "  </tbody>\n",
       "</table>\n",
       "</div>"
      ],
      "text/plain": [
       "                        name mfr type  calories  protein  fat  sodium  fiber  \\\n",
       "0                  100% Bran   N    C        70        4    1     130   10.0   \n",
       "1          100% Natural Bran   Q    C       120        3    5      15    2.0   \n",
       "2                   All-Bran   K    C        70        4    1     260    9.0   \n",
       "3  All-Bran with Extra Fiber   K    C        50        4    0     140   14.0   \n",
       "4             Almond Delight   R    C       110        2    2     200    1.0   \n",
       "\n",
       "   carbo  sugars  potass  vitamins  shelf  weight  cups     rating  \n",
       "0    5.0       6     280        25      3     1.0  0.33  68.402973  \n",
       "1    8.0       8     135         0      3     1.0  1.00  33.983679  \n",
       "2    7.0       5     320        25      3     1.0  0.33  59.425505  \n",
       "3    8.0       0     330        25      3     1.0  0.50  93.704912  \n",
       "4   14.0       8      -1        25      3     1.0  0.75  34.384843  "
      ]
     },
     "execution_count": 8,
     "metadata": {},
     "output_type": "execute_result"
    }
   ],
   "source": [
    "import pandas as pd\n",
    "df = pd.read_csv(\"cereal.csv\")\n",
    "df.head()"
   ]
  },
  {
   "cell_type": "markdown",
   "metadata": {
    "id": "6WFhmMiK99pi"
   },
   "source": [
    "## Tu Tarea\n",
    "Desarrolle una función que **reciba** un dataset (`df`) y que:\n",
    "- Elimine los valores nulos del dataset.\n",
    "- Considere como ground truth a la columna `[\"type\"]` (el tipo de cereal).\n",
    "- Elimine la columna `[\"name\"]`\n",
    "- Convierta la columna categórica `[\"mfr\"]` a numérica.\n",
    "- Destine un 85% del dataset para el proceso de entrenamiento, usando también el parámetro `random_state=21`\n",
    "- Entrene un estimador `SVC` con parámetros `kernel=\"linear\"` y `random_state=21`\n",
    "- **Devuelva** el `accuracy_score` para este estimador.\n",
    "- Entrene un estimador `RandomForestClassifier` con parámetros `n_estimators=100` y `random_state=21`\n",
    "- **Devuelva** el `accuracy_score` para este estimador.\n",
    "\n",
    "\n",
    "<br>\n",
    "\n",
    "<ins>**Nota:**</ins> puede utilizar la función `pd.factorize` de pandas para convertir columnas categóricas, a numéricas:\n",
    "\n",
    "https://pandas.pydata.org/docs/reference/api/pandas.factorize.html"
   ]
  },
  {
   "cell_type": "code",
   "execution_count": 9,
   "metadata": {
    "id": "DN2ahWNOEGZ4"
   },
   "outputs": [],
   "source": [
    "#@title **code student**\n",
    "\n",
    "def taller05_20252_p02(df):\n",
    "    import pandas as pd\n",
    "    import numpy as np\n",
    "    from sklearn.svm import SVC\n",
    "    from sklearn.ensemble import RandomForestClassifier\n",
    "    from sklearn.model_selection import train_test_split\n",
    "    from sklearn.metrics import accuracy_score\n",
    "    np.random.seed(21)\n",
    "\n",
    "    df = df.dropna().copy()\n",
    "    df = df.drop(columns=[\"name\"])\n",
    "    \n",
    "    df[\"mfr\"] = df[\"mfr\"].factorize()[0]\n",
    "    \n",
    "    y = df[\"type\"].replace({\"C\": 0, \"H\": 1})\n",
    "    x = df.drop(\"type\", axis=1)\n",
    "    \n",
    "    x_train, x_test, y_train, y_test = train_test_split(x, y, test_size=0.15, random_state=21)\n",
    "    \n",
    "    svc_est = SVC(kernel='linear', random_state=21)\n",
    "    svc_est.fit(x_train, y_train)\n",
    "    svc_acc_score = accuracy_score(svc_est.predict(x_test), y_test)\n",
    "    \n",
    "    rfc_est = RandomForestClassifier(n_estimators=100, random_state=21)\n",
    "    rfc_est.fit(x_train, y_train)\n",
    "    rfc_acc_score = accuracy_score(rfc_est.predict(x_test), y_test)\n",
    "\n",
    "    return svc_acc_score, rfc_acc_score"
   ]
  },
  {
   "cell_type": "code",
   "execution_count": 10,
   "metadata": {
    "id": "6YK-yxyAEMsA"
   },
   "outputs": [
    {
     "data": {
      "text/plain": [
       "(0.8333333333333334, 0.9166666666666666)"
      ]
     },
     "execution_count": 10,
     "metadata": {},
     "output_type": "execute_result"
    }
   ],
   "source": [
    "#@title **check your answer**\n",
    "import pandas as pd\n",
    "\n",
    "df = pd.read_csv(\"cereal.csv\")\n",
    "taller05_20252_p02(df)"
   ]
  },
  {
   "cell_type": "markdown",
   "metadata": {
    "id": "7LegmF57Wuvh"
   },
   "source": [
    "## ✅ Salidas esperadas\n",
    "\n",
    "(0.8333333333333334, 0.9166666666666666)"
   ]
  },
  {
   "cell_type": "code",
   "execution_count": 11,
   "metadata": {
    "id": "R-Mx3FogErMk"
   },
   "outputs": [
    {
     "name": "stdout",
     "output_type": "stream",
     "text": [
      "{\n",
      "    \"score\": 5.0,\n",
      "    \"message\": [\n",
      "        \"Excellent, both accuracy values are correct.\"\n",
      "    ],\n",
      "    \"status\": \"You have achieved your best score: 5.0\"\n",
      "}\n",
      "Score\n",
      "\t5.0\n",
      "Message\n",
      "\tExcellent, both accuracy values are correct.\n",
      "Status\n",
      "\tYou have achieved your best score: 5.0\n"
     ]
    }
   ],
   "source": [
    "#@title **send your answer**\n",
    "student_func_str = inspect.getsource(taller05_20252_p02)\n",
    "r = check_solution_and_evaluate(assignment_id, student_func_str)"
   ]
  },
  {
   "cell_type": "markdown",
   "metadata": {
    "id": "FPk-vYL30z3H"
   },
   "source": [
    "---\n",
    "# **Ejercicio 3**  <a name=\"eje3\"></a>\n",
    "---"
   ]
  },
  {
   "cell_type": "markdown",
   "metadata": {
    "id": "ES7KrNKU0z3I"
   },
   "source": [
    "## Feature importances\n",
    "\n",
    "## Contexto\n",
    "El dataset `Animal Bites` (https://www.kaggle.com/datasets/rtatman/animal-bites) contiene información asociada a mordeduras de diferentes animales, datos de las víctimas y otros aspectos relevantes."
   ]
  },
  {
   "cell_type": "code",
   "execution_count": 12,
   "metadata": {
    "colab": {
     "base_uri": "https://localhost:8080/",
     "height": 206
    },
    "executionInfo": {
     "elapsed": 1157,
     "status": "ok",
     "timestamp": 1759422208624,
     "user": {
      "displayName": "jean carlos portilla",
      "userId": "02695729185455730734"
     },
     "user_tz": 300
    },
    "id": "07nN8uOQ-IQ4",
    "outputId": "2d53e3da-928b-43b1-bae5-3234fa1e63c5"
   },
   "outputs": [
    {
     "data": {
      "text/html": [
       "<div>\n",
       "<style scoped>\n",
       "    .dataframe tbody tr th:only-of-type {\n",
       "        vertical-align: middle;\n",
       "    }\n",
       "\n",
       "    .dataframe tbody tr th {\n",
       "        vertical-align: top;\n",
       "    }\n",
       "\n",
       "    .dataframe thead th {\n",
       "        text-align: right;\n",
       "    }\n",
       "</style>\n",
       "<table border=\"1\" class=\"dataframe\">\n",
       "  <thead>\n",
       "    <tr style=\"text-align: right;\">\n",
       "      <th></th>\n",
       "      <th>bite_date</th>\n",
       "      <th>SpeciesIDDesc</th>\n",
       "      <th>BreedIDDesc</th>\n",
       "      <th>GenderIDDesc</th>\n",
       "      <th>color</th>\n",
       "      <th>vaccination_yrs</th>\n",
       "      <th>vaccination_date</th>\n",
       "      <th>victim_zip</th>\n",
       "      <th>AdvIssuedYNDesc</th>\n",
       "      <th>WhereBittenIDDesc</th>\n",
       "      <th>quarantine_date</th>\n",
       "      <th>DispositionIDDesc</th>\n",
       "      <th>head_sent_date</th>\n",
       "      <th>release_date</th>\n",
       "      <th>ResultsIDDesc</th>\n",
       "    </tr>\n",
       "  </thead>\n",
       "  <tbody>\n",
       "    <tr>\n",
       "      <th>0</th>\n",
       "      <td>1985-05-05 00:00:00</td>\n",
       "      <td>DOG</td>\n",
       "      <td>NaN</td>\n",
       "      <td>FEMALE</td>\n",
       "      <td>LIG. BROWN</td>\n",
       "      <td>1.0</td>\n",
       "      <td>1985-06-20 00:00:00</td>\n",
       "      <td>40229</td>\n",
       "      <td>NO</td>\n",
       "      <td>BODY</td>\n",
       "      <td>1985-05-05 00:00:00</td>\n",
       "      <td>UNKNOWN</td>\n",
       "      <td>NaN</td>\n",
       "      <td>NaN</td>\n",
       "      <td>UNKNOWN</td>\n",
       "    </tr>\n",
       "    <tr>\n",
       "      <th>1</th>\n",
       "      <td>1986-02-12 00:00:00</td>\n",
       "      <td>DOG</td>\n",
       "      <td>NaN</td>\n",
       "      <td>UNKNOWN</td>\n",
       "      <td>BRO &amp; BLA</td>\n",
       "      <td>NaN</td>\n",
       "      <td>NaN</td>\n",
       "      <td>40218</td>\n",
       "      <td>NO</td>\n",
       "      <td>BODY</td>\n",
       "      <td>1986-02-12 00:00:00</td>\n",
       "      <td>UNKNOWN</td>\n",
       "      <td>NaN</td>\n",
       "      <td>NaN</td>\n",
       "      <td>UNKNOWN</td>\n",
       "    </tr>\n",
       "    <tr>\n",
       "      <th>2</th>\n",
       "      <td>1987-05-07 00:00:00</td>\n",
       "      <td>DOG</td>\n",
       "      <td>NaN</td>\n",
       "      <td>UNKNOWN</td>\n",
       "      <td>NaN</td>\n",
       "      <td>NaN</td>\n",
       "      <td>NaN</td>\n",
       "      <td>40219</td>\n",
       "      <td>NO</td>\n",
       "      <td>BODY</td>\n",
       "      <td>1990-05-07 00:00:00</td>\n",
       "      <td>UNKNOWN</td>\n",
       "      <td>NaN</td>\n",
       "      <td>NaN</td>\n",
       "      <td>UNKNOWN</td>\n",
       "    </tr>\n",
       "    <tr>\n",
       "      <th>3</th>\n",
       "      <td>1988-10-02 00:00:00</td>\n",
       "      <td>DOG</td>\n",
       "      <td>NaN</td>\n",
       "      <td>MALE</td>\n",
       "      <td>BLA &amp; BRO</td>\n",
       "      <td>NaN</td>\n",
       "      <td>NaN</td>\n",
       "      <td>NaN</td>\n",
       "      <td>NO</td>\n",
       "      <td>BODY</td>\n",
       "      <td>1990-10-02 00:00:00</td>\n",
       "      <td>UNKNOWN</td>\n",
       "      <td>NaN</td>\n",
       "      <td>NaN</td>\n",
       "      <td>UNKNOWN</td>\n",
       "    </tr>\n",
       "    <tr>\n",
       "      <th>4</th>\n",
       "      <td>1989-08-29 00:00:00</td>\n",
       "      <td>DOG</td>\n",
       "      <td>NaN</td>\n",
       "      <td>FEMALE</td>\n",
       "      <td>BLK-WHT</td>\n",
       "      <td>NaN</td>\n",
       "      <td>NaN</td>\n",
       "      <td>NaN</td>\n",
       "      <td>NO</td>\n",
       "      <td>BODY</td>\n",
       "      <td>NaN</td>\n",
       "      <td>UNKNOWN</td>\n",
       "      <td>NaN</td>\n",
       "      <td>NaN</td>\n",
       "      <td>UNKNOWN</td>\n",
       "    </tr>\n",
       "  </tbody>\n",
       "</table>\n",
       "</div>"
      ],
      "text/plain": [
       "             bite_date SpeciesIDDesc BreedIDDesc GenderIDDesc       color  \\\n",
       "0  1985-05-05 00:00:00           DOG         NaN       FEMALE  LIG. BROWN   \n",
       "1  1986-02-12 00:00:00           DOG         NaN      UNKNOWN   BRO & BLA   \n",
       "2  1987-05-07 00:00:00           DOG         NaN      UNKNOWN         NaN   \n",
       "3  1988-10-02 00:00:00           DOG         NaN         MALE   BLA & BRO   \n",
       "4  1989-08-29 00:00:00           DOG         NaN       FEMALE     BLK-WHT   \n",
       "\n",
       "   vaccination_yrs     vaccination_date victim_zip AdvIssuedYNDesc  \\\n",
       "0              1.0  1985-06-20 00:00:00      40229              NO   \n",
       "1              NaN                  NaN      40218              NO   \n",
       "2              NaN                  NaN      40219              NO   \n",
       "3              NaN                  NaN        NaN              NO   \n",
       "4              NaN                  NaN        NaN              NO   \n",
       "\n",
       "  WhereBittenIDDesc      quarantine_date DispositionIDDesc head_sent_date  \\\n",
       "0              BODY  1985-05-05 00:00:00           UNKNOWN            NaN   \n",
       "1              BODY  1986-02-12 00:00:00           UNKNOWN            NaN   \n",
       "2              BODY  1990-05-07 00:00:00           UNKNOWN            NaN   \n",
       "3              BODY  1990-10-02 00:00:00           UNKNOWN            NaN   \n",
       "4              BODY                  NaN           UNKNOWN            NaN   \n",
       "\n",
       "  release_date ResultsIDDesc  \n",
       "0          NaN       UNKNOWN  \n",
       "1          NaN       UNKNOWN  \n",
       "2          NaN       UNKNOWN  \n",
       "3          NaN       UNKNOWN  \n",
       "4          NaN       UNKNOWN  "
      ]
     },
     "execution_count": 12,
     "metadata": {},
     "output_type": "execute_result"
    }
   ],
   "source": [
    "import pandas as pd\n",
    "df = pd.read_csv(\"https://drive.google.com/uc?id=1-u5iid63dsDgwTR9rAeeHB4198K1I1Yt\")\n",
    "df.head()"
   ]
  },
  {
   "cell_type": "markdown",
   "metadata": {
    "id": "Beyb0jfJ-IZa"
   },
   "source": [
    "## Tu tarea\n",
    "Desarrolle una función que **reciba** un dataset (`df`) y que:\n",
    "\n",
    "- Elimine las columnas `[\"BreedIDDesc\", \"vaccination_yrs\", \"vaccination_date\", \"bite_date\", \"release_date\", \"ResultsIDDesc\", \"head_sent_date\", \"DispositionIDDesc\", \"quarantine_date\"]`\n",
    "- Elimine los valores nulos del dataset.\n",
    "- Convierta las columnas categóricas `[\"SpeciesIDDesc\"], [\"GenderIDDesc\"],[\"color\"] [\"AdvIssuedYNDesc\"], [\"WhereBittenIDDesc\"], [\"victim_zip\"]` a numéricas.\n",
    "- Considere como ground truth a la columna `[\"GenderIDDesc\"]` (el género del animal).\n",
    "- Destine un 90% del dataset para el proceso de entrenamiento, usando también el parámetro `random_state=21`\n",
    "- Entrene un estimador `DecisionTreeClassifier` con parámetros `random_state=21`\n",
    "- **Devuelva** el `accuracy_score` para este estimador.\n",
    "- Calcule las columnas más importantes del dataset.\n",
    "\n",
    "Su nuevo dataset será: las 2 (dos) columnas <ins>**MÁS IMPORTANTES**</ins>.<br>Con esta nueva configuración:\n",
    "- Entrene un estimador `RandomForestClassifier` con parámetros `n_estimators=100` y `random_state=21`\n",
    "- **Devuelva** el `accuracy_score` para este estimador.\n",
    "\n",
    "<br>\n",
    "\n",
    "<ins>**Nota:**</ins> puede utilizar la función `pd.factorize` de pandas para convertir columnas categóricas, a numéricas:\n",
    "\n",
    "https://pandas.pydata.org/docs/reference/api/pandas.factorize.html"
   ]
  },
  {
   "cell_type": "code",
   "execution_count": 13,
   "metadata": {
    "id": "w9NRhOuC1_KU"
   },
   "outputs": [],
   "source": [
    "#@title **code student**\n",
    "\n",
    "def taller05_20252_p03(df):\n",
    "  import numpy as np\n",
    "  import math\n",
    "  import pandas as pd\n",
    "  from sklearn.ensemble import RandomForestClassifier\n",
    "  from sklearn.model_selection import train_test_split\n",
    "  from sklearn.metrics import accuracy_score\n",
    "  np.random.seed(21)\n",
    "  \n",
    "  df = df.drop(columns=[\"BreedIDDesc\", \"vaccination_yrs\", \"vaccination_date\", \"bite_date\", \"release_date\", \"ResultsIDDesc\", \"head_sent_date\", \"DispositionIDDesc\", \"quarantine_date\"])\n",
    "  \n",
    "  df = df.dropna().copy()\n",
    "  df[\"SpeciesIDDesc\"] = df[\"SpeciesIDDesc\"].factorize()[0]\n",
    "  df[\"GenderIDDesc\"] = df[\"GenderIDDesc\"].factorize()[0]\n",
    "  df[\"color\"] = df[\"color\"].factorize()[0]\n",
    "  df[\"AdvIssuedYNDesc\"] = df[\"AdvIssuedYNDesc\"].factorize()[0]\n",
    "  df[\"WhereBittenIDDesc\"] = df[\"WhereBittenIDDesc\"].factorize()[0]\n",
    "  df[\"victim_zip\"] = df[\"victim_zip\"].factorize()[0]\n",
    "  \n",
    "  y = df[\"GenderIDDesc\"]\n",
    "  x = df.drop(\"GenderIDDesc\", axis=1)\n",
    "  est = RandomForestClassifier(random_state=21)\n",
    "  \n",
    "  x_train, x_test, y_train, y_test = train_test_split(x, y, test_size=0.1, random_state=21)\n",
    "  \n",
    "  est.fit(x_train, y_train)\n",
    "  \n",
    "  acc_score = math.floor(accuracy_score(est.predict(x_test), y_test)*10) / 10 #en dos decimales\n",
    "  \n",
    "  importances = est.feature_importances_\n",
    "  feature_importances = pd.Series(importances, index=x.columns).sort_values(ascending = False)\n",
    "  top_2  = feature_importances.index[:2]\n",
    "  \n",
    "  df2 = df[top_2.tolist() + [\"GenderIDDesc\"]]\n",
    "  y2 = df2[\"GenderIDDesc\"]\n",
    "  x2 = df2.drop(\"GenderIDDesc\", axis=1)\n",
    "\n",
    "  est = RandomForestClassifier(random_state=21, n_estimators=100)\n",
    "  x_train, x_test, y_train, y_test = train_test_split(x2, y2, test_size=0.1, random_state=21)\n",
    "\n",
    "  est.fit(x_train, y_train)\n",
    "\n",
    "  acc_score2 = accuracy_score(est.predict(x_test), y_test)\n",
    "\n",
    "  return acc_score, acc_score2"
   ]
  },
  {
   "cell_type": "code",
   "execution_count": 14,
   "metadata": {
    "id": "P9LCmBx82TgZ"
   },
   "outputs": [
    {
     "data": {
      "text/plain": [
       "(0.4, 0.45294117647058824)"
      ]
     },
     "execution_count": 14,
     "metadata": {},
     "output_type": "execute_result"
    }
   ],
   "source": [
    "#@title **check your answer**\n",
    "import numpy as np\n",
    "import pandas as pd\n",
    "\n",
    "df = pd.read_csv(\"https://drive.google.com/uc?id=1-u5iid63dsDgwTR9rAeeHB4198K1I1Yt\")\n",
    "taller05_20252_p03(df)"
   ]
  },
  {
   "cell_type": "markdown",
   "metadata": {
    "id": "9dmpF7-T5H3x"
   },
   "source": [
    "## ✅ Salidas esperadas\n",
    "\n",
    "(0.4, 0.45294117647058824)"
   ]
  },
  {
   "cell_type": "code",
   "execution_count": 15,
   "metadata": {
    "id": "m1vRcPBE5WC-"
   },
   "outputs": [
    {
     "name": "stdout",
     "output_type": "stream",
     "text": [
      "{\n",
      "    \"score\": 5.0,\n",
      "    \"message\": [\n",
      "        \"Excellent, both accuracy values are correct.\"\n",
      "    ],\n",
      "    \"status\": \"You have achieved your best score: 5.0\"\n",
      "}\n",
      "Score\n",
      "\t5.0\n",
      "Message\n",
      "\tExcellent, both accuracy values are correct.\n",
      "Status\n",
      "\tYou have achieved your best score: 5.0\n"
     ]
    }
   ],
   "source": [
    "#@title **send your answer**\n",
    "student_func_str = inspect.getsource(taller05_20252_p03)\n",
    "r = check_solution_and_evaluate(assignment_id, student_func_str)"
   ]
  },
  {
   "cell_type": "markdown",
   "metadata": {
    "id": "g6Rct60M7MgD"
   },
   "source": [
    "---\n",
    "# **Ejercicio 4**  <a name=\"eje4\"></a>\n",
    "---"
   ]
  },
  {
   "cell_type": "markdown",
   "metadata": {
    "id": "wE_Ec4sU7MgE"
   },
   "source": [
    "## Cross Validation\n",
    "\n",
    "## Contexto\n",
    "El dataset `supermarket sales` (https://raw.githubusercontent.com/MainakRepositor/Datasets/refs/heads/master/supermarket_sales.csv) contiene información relacionada con productos, costos, ganancias y otros aspectos de un supermercado."
   ]
  },
  {
   "cell_type": "code",
   "execution_count": 16,
   "metadata": {
    "colab": {
     "base_uri": "https://localhost:8080/",
     "height": 206
    },
    "executionInfo": {
     "elapsed": 1115,
     "status": "ok",
     "timestamp": 1759422622491,
     "user": {
      "displayName": "jean carlos portilla",
      "userId": "02695729185455730734"
     },
     "user_tz": 300
    },
    "id": "lGdmrFUE-RPJ",
    "outputId": "0172d436-196a-499d-b797-73afb7082c5b"
   },
   "outputs": [
    {
     "data": {
      "text/html": [
       "<div>\n",
       "<style scoped>\n",
       "    .dataframe tbody tr th:only-of-type {\n",
       "        vertical-align: middle;\n",
       "    }\n",
       "\n",
       "    .dataframe tbody tr th {\n",
       "        vertical-align: top;\n",
       "    }\n",
       "\n",
       "    .dataframe thead th {\n",
       "        text-align: right;\n",
       "    }\n",
       "</style>\n",
       "<table border=\"1\" class=\"dataframe\">\n",
       "  <thead>\n",
       "    <tr style=\"text-align: right;\">\n",
       "      <th></th>\n",
       "      <th>Invoice ID</th>\n",
       "      <th>Branch</th>\n",
       "      <th>City</th>\n",
       "      <th>Customer type</th>\n",
       "      <th>Gender</th>\n",
       "      <th>Product line</th>\n",
       "      <th>Unit price</th>\n",
       "      <th>Quantity</th>\n",
       "      <th>Tax 5%</th>\n",
       "      <th>Total</th>\n",
       "      <th>Date</th>\n",
       "      <th>Time</th>\n",
       "      <th>Payment</th>\n",
       "      <th>cogs</th>\n",
       "      <th>gross margin percentage</th>\n",
       "      <th>gross income</th>\n",
       "      <th>Rating</th>\n",
       "    </tr>\n",
       "  </thead>\n",
       "  <tbody>\n",
       "    <tr>\n",
       "      <th>0</th>\n",
       "      <td>750-67-8428</td>\n",
       "      <td>A</td>\n",
       "      <td>Yangon</td>\n",
       "      <td>Member</td>\n",
       "      <td>Female</td>\n",
       "      <td>Health and beauty</td>\n",
       "      <td>74.69</td>\n",
       "      <td>7</td>\n",
       "      <td>26.1415</td>\n",
       "      <td>548.9715</td>\n",
       "      <td>1/5/2019</td>\n",
       "      <td>13:08</td>\n",
       "      <td>Ewallet</td>\n",
       "      <td>522.83</td>\n",
       "      <td>4.761905</td>\n",
       "      <td>26.1415</td>\n",
       "      <td>9.1</td>\n",
       "    </tr>\n",
       "    <tr>\n",
       "      <th>1</th>\n",
       "      <td>226-31-3081</td>\n",
       "      <td>C</td>\n",
       "      <td>Naypyitaw</td>\n",
       "      <td>Normal</td>\n",
       "      <td>Female</td>\n",
       "      <td>Electronic accessories</td>\n",
       "      <td>15.28</td>\n",
       "      <td>5</td>\n",
       "      <td>3.8200</td>\n",
       "      <td>80.2200</td>\n",
       "      <td>3/8/2019</td>\n",
       "      <td>10:29</td>\n",
       "      <td>Cash</td>\n",
       "      <td>76.40</td>\n",
       "      <td>4.761905</td>\n",
       "      <td>3.8200</td>\n",
       "      <td>9.6</td>\n",
       "    </tr>\n",
       "    <tr>\n",
       "      <th>2</th>\n",
       "      <td>631-41-3108</td>\n",
       "      <td>A</td>\n",
       "      <td>Yangon</td>\n",
       "      <td>Normal</td>\n",
       "      <td>Male</td>\n",
       "      <td>Home and lifestyle</td>\n",
       "      <td>46.33</td>\n",
       "      <td>7</td>\n",
       "      <td>16.2155</td>\n",
       "      <td>340.5255</td>\n",
       "      <td>3/3/2019</td>\n",
       "      <td>13:23</td>\n",
       "      <td>Credit card</td>\n",
       "      <td>324.31</td>\n",
       "      <td>4.761905</td>\n",
       "      <td>16.2155</td>\n",
       "      <td>7.4</td>\n",
       "    </tr>\n",
       "    <tr>\n",
       "      <th>3</th>\n",
       "      <td>123-19-1176</td>\n",
       "      <td>A</td>\n",
       "      <td>Yangon</td>\n",
       "      <td>Member</td>\n",
       "      <td>Male</td>\n",
       "      <td>Health and beauty</td>\n",
       "      <td>58.22</td>\n",
       "      <td>8</td>\n",
       "      <td>23.2880</td>\n",
       "      <td>489.0480</td>\n",
       "      <td>1/27/2019</td>\n",
       "      <td>20:33</td>\n",
       "      <td>Ewallet</td>\n",
       "      <td>465.76</td>\n",
       "      <td>4.761905</td>\n",
       "      <td>23.2880</td>\n",
       "      <td>8.4</td>\n",
       "    </tr>\n",
       "    <tr>\n",
       "      <th>4</th>\n",
       "      <td>373-73-7910</td>\n",
       "      <td>A</td>\n",
       "      <td>Yangon</td>\n",
       "      <td>Normal</td>\n",
       "      <td>Male</td>\n",
       "      <td>Sports and travel</td>\n",
       "      <td>86.31</td>\n",
       "      <td>7</td>\n",
       "      <td>30.2085</td>\n",
       "      <td>634.3785</td>\n",
       "      <td>2/8/2019</td>\n",
       "      <td>10:37</td>\n",
       "      <td>Ewallet</td>\n",
       "      <td>604.17</td>\n",
       "      <td>4.761905</td>\n",
       "      <td>30.2085</td>\n",
       "      <td>5.3</td>\n",
       "    </tr>\n",
       "  </tbody>\n",
       "</table>\n",
       "</div>"
      ],
      "text/plain": [
       "    Invoice ID Branch       City Customer type  Gender  \\\n",
       "0  750-67-8428      A     Yangon        Member  Female   \n",
       "1  226-31-3081      C  Naypyitaw        Normal  Female   \n",
       "2  631-41-3108      A     Yangon        Normal    Male   \n",
       "3  123-19-1176      A     Yangon        Member    Male   \n",
       "4  373-73-7910      A     Yangon        Normal    Male   \n",
       "\n",
       "             Product line  Unit price  Quantity   Tax 5%     Total       Date  \\\n",
       "0       Health and beauty       74.69         7  26.1415  548.9715   1/5/2019   \n",
       "1  Electronic accessories       15.28         5   3.8200   80.2200   3/8/2019   \n",
       "2      Home and lifestyle       46.33         7  16.2155  340.5255   3/3/2019   \n",
       "3       Health and beauty       58.22         8  23.2880  489.0480  1/27/2019   \n",
       "4       Sports and travel       86.31         7  30.2085  634.3785   2/8/2019   \n",
       "\n",
       "    Time      Payment    cogs  gross margin percentage  gross income  Rating  \n",
       "0  13:08      Ewallet  522.83                 4.761905       26.1415     9.1  \n",
       "1  10:29         Cash   76.40                 4.761905        3.8200     9.6  \n",
       "2  13:23  Credit card  324.31                 4.761905       16.2155     7.4  \n",
       "3  20:33      Ewallet  465.76                 4.761905       23.2880     8.4  \n",
       "4  10:37      Ewallet  604.17                 4.761905       30.2085     5.3  "
      ]
     },
     "execution_count": 16,
     "metadata": {},
     "output_type": "execute_result"
    }
   ],
   "source": [
    "import pandas as pd\n",
    "df = pd.read_csv(\"https://drive.google.com/uc?id=1Xd0hiXjeW2C3h2-zwve5ojrDGSU_F-8I\")\n",
    "df.head()"
   ]
  },
  {
   "cell_type": "markdown",
   "metadata": {
    "id": "PD1McVB5-RYa"
   },
   "source": [
    "## Tu tarea\n",
    "\n",
    "Implementar una función que **reciba** como parámetro el dataset (`df`), y que:\n",
    "- Elimine las columnas `[\"Invoice ID\", \"Date\", \"Time\"]`\n",
    "- Convierta las columnas categóricas `[\"Branch\"], [\"City\"], [\"Customer type\"], [\"Gender\"], [\"Product line\"], [\"Payment\"]` a numéricas.\n",
    "- El ground truth será la columna `[\"Customer type\"]`\n",
    "- Utilice un 80% del dataset para entrenamiento, con parámetros `test_size=0.2, random_state=21`\n",
    "- Entrene un estimador SVC con parámetros `kernel=\"poly\", random_state=21`\n",
    "- **Devuelva** el `accuracy_score` del estimador\n",
    "- Entrene el mismo estimador, mediante `cross validation` con parámetros `cv=KFold(2, shuffle=False), scoring=make_scorer(accuracy_score)`\n",
    "- **Devuelva** el promedio de los resultados obtenidos con este método\n",
    "- **Devuelva** la desviación de los resultados obtenidos con este método\n",
    "\n",
    "<br>\n",
    "\n",
    "<ins>**Nota:**</ins> puede utilizar la función `pd.factorize` de pandas para convertir columnas categóricas, a numéricas:\n",
    "\n",
    "https://pandas.pydata.org/docs/reference/api/pandas.factorize.html"
   ]
  },
  {
   "cell_type": "code",
   "execution_count": null,
   "metadata": {
    "id": "65IDCQY77MgE"
   },
   "outputs": [],
   "source": [
    "#@title **code student**\n",
    "\n",
    "def taller05_20252_p04(df):\n",
    "  import numpy as np\n",
    "  import pandas as pd\n",
    "  from sklearn.svm import SVC\n",
    "  from sklearn.model_selection import train_test_split\n",
    "  from sklearn.metrics import accuracy_score\n",
    "  from sklearn.metrics import make_scorer\n",
    "  from sklearn.model_selection import KFold\n",
    "  from sklearn.model_selection import cross_val_score\n",
    "  np.random.seed(21)\n",
    "\n",
    "  df = df.drop(columns=[\"Invoice ID\", \"Date\", \"Time\"])\n",
    "\n",
    "  df[\"Branch\"] = df[\"Branch\"].factorize()[0]\n",
    "  df[\"City\"] = df[\"City\"].factorize()[0]\n",
    "  df[\"Customer type\"] = df[\"Customer type\"].factorize()[0]\n",
    "  df[\"Gender\"] = df[\"Gender\"].factorize()[0]\n",
    "  df[\"Product line\"] = df[\"Product line\"].factorize()[0]\n",
    "  df[\"Payment\"] = df[\"Payment\"].factorize()[0]\n",
    "  \n",
    "  y = df[\"Customer type\"]\n",
    "  x = df.drop(\"Customer type\", axis=1)\n",
    "  \n",
    "  x_train, x_test, y_train, y_test = train_test_split(x, y, test_size=0.2, random_state=21)\n",
    "  est = SVC(kernel='poly', random_state=21)\n",
    "  est.fit(x_train, y_train)\n",
    "  acc_score = accuracy_score(est.predict(x_test), y_test)\n",
    "  \n",
    "  s = cross_val_score(est, x, y, cv=KFold(2, shuffle=False), scoring=make_scorer(accuracy_score))\n",
    "\n",
    "  return acc_score, np.mean(s), np.std(s)"
   ]
  },
  {
   "cell_type": "code",
   "execution_count": 18,
   "metadata": {
    "id": "x-ZoxYT_7MgE"
   },
   "outputs": [
    {
     "data": {
      "text/plain": [
       "(0.485, np.float64(0.483), np.float64(0.0010000000000000009))"
      ]
     },
     "execution_count": 18,
     "metadata": {},
     "output_type": "execute_result"
    }
   ],
   "source": [
    "#@title **check your answer**\n",
    "import numpy as np\n",
    "import pandas as pd\n",
    "\n",
    "df = pd.read_csv(\"https://drive.google.com/uc?id=1Xd0hiXjeW2C3h2-zwve5ojrDGSU_F-8I\")\n",
    "taller05_20252_p04(df)"
   ]
  },
  {
   "cell_type": "markdown",
   "metadata": {
    "id": "DQSLghSP7MgE"
   },
   "source": [
    "## ✅ Salidas esperadas\n",
    "\n",
    "(0.485, np.float64(0.483), np.float64(0.0010000000000000009))"
   ]
  },
  {
   "cell_type": "code",
   "execution_count": 19,
   "metadata": {
    "id": "GVnHEkGV7MgE"
   },
   "outputs": [
    {
     "name": "stdout",
     "output_type": "stream",
     "text": [
      "{\n",
      "    \"score\": 5.0,\n",
      "    \"message\": [\n",
      "        \"Excellent, all accuracy values are correct.\"\n",
      "    ],\n",
      "    \"status\": \"You have achieved your best score: 5.0\"\n",
      "}\n",
      "Score\n",
      "\t5.0\n",
      "Message\n",
      "\tExcellent, all accuracy values are correct.\n",
      "Status\n",
      "\tYou have achieved your best score: 5.0\n"
     ]
    }
   ],
   "source": [
    "#@title **send your answer**\n",
    "student_func_str = inspect.getsource(taller05_20252_p04)\n",
    "r = check_solution_and_evaluate(assignment_id, student_func_str)"
   ]
  },
  {
   "cell_type": "markdown",
   "metadata": {
    "id": "-nYFZ52dG71k"
   },
   "source": [
    "---\n",
    "# **Ejercicio 5**  <a name=\"eje5\"></a>\n",
    "---"
   ]
  },
  {
   "cell_type": "markdown",
   "metadata": {
    "id": "Aflo4IAVHGp_"
   },
   "source": [
    "# Cross validation: leave one out\n",
    "\n",
    "## Contexto:\n",
    "Considere el dataset `penguins size` (https://raw.githubusercontent.com/MainakRepositor/Datasets/refs/heads/master/penguins_size.csv) el cual contiene datos sobre las dimensiones de una población de pinguinos."
   ]
  },
  {
   "cell_type": "code",
   "execution_count": 20,
   "metadata": {
    "colab": {
     "base_uri": "https://localhost:8080/",
     "height": 206
    },
    "executionInfo": {
     "elapsed": 1095,
     "status": "ok",
     "timestamp": 1759423110257,
     "user": {
      "displayName": "jean carlos portilla",
      "userId": "02695729185455730734"
     },
     "user_tz": 300
    },
    "id": "Tpfvqn8o_Dlp",
    "outputId": "fc6a10d0-4217-43cc-9e65-823817777124"
   },
   "outputs": [
    {
     "data": {
      "text/html": [
       "<div>\n",
       "<style scoped>\n",
       "    .dataframe tbody tr th:only-of-type {\n",
       "        vertical-align: middle;\n",
       "    }\n",
       "\n",
       "    .dataframe tbody tr th {\n",
       "        vertical-align: top;\n",
       "    }\n",
       "\n",
       "    .dataframe thead th {\n",
       "        text-align: right;\n",
       "    }\n",
       "</style>\n",
       "<table border=\"1\" class=\"dataframe\">\n",
       "  <thead>\n",
       "    <tr style=\"text-align: right;\">\n",
       "      <th></th>\n",
       "      <th>species</th>\n",
       "      <th>island</th>\n",
       "      <th>culmen_length_mm</th>\n",
       "      <th>culmen_depth_mm</th>\n",
       "      <th>flipper_length_mm</th>\n",
       "      <th>body_mass_g</th>\n",
       "      <th>sex</th>\n",
       "    </tr>\n",
       "  </thead>\n",
       "  <tbody>\n",
       "    <tr>\n",
       "      <th>0</th>\n",
       "      <td>Adelie</td>\n",
       "      <td>Torgersen</td>\n",
       "      <td>39.1</td>\n",
       "      <td>18.7</td>\n",
       "      <td>181.0</td>\n",
       "      <td>3750.0</td>\n",
       "      <td>MALE</td>\n",
       "    </tr>\n",
       "    <tr>\n",
       "      <th>1</th>\n",
       "      <td>Adelie</td>\n",
       "      <td>Torgersen</td>\n",
       "      <td>39.5</td>\n",
       "      <td>17.4</td>\n",
       "      <td>186.0</td>\n",
       "      <td>3800.0</td>\n",
       "      <td>FEMALE</td>\n",
       "    </tr>\n",
       "    <tr>\n",
       "      <th>2</th>\n",
       "      <td>Adelie</td>\n",
       "      <td>Torgersen</td>\n",
       "      <td>40.3</td>\n",
       "      <td>18.0</td>\n",
       "      <td>195.0</td>\n",
       "      <td>3250.0</td>\n",
       "      <td>FEMALE</td>\n",
       "    </tr>\n",
       "    <tr>\n",
       "      <th>3</th>\n",
       "      <td>Adelie</td>\n",
       "      <td>Torgersen</td>\n",
       "      <td>NaN</td>\n",
       "      <td>NaN</td>\n",
       "      <td>NaN</td>\n",
       "      <td>NaN</td>\n",
       "      <td>NaN</td>\n",
       "    </tr>\n",
       "    <tr>\n",
       "      <th>4</th>\n",
       "      <td>Adelie</td>\n",
       "      <td>Torgersen</td>\n",
       "      <td>36.7</td>\n",
       "      <td>19.3</td>\n",
       "      <td>193.0</td>\n",
       "      <td>3450.0</td>\n",
       "      <td>FEMALE</td>\n",
       "    </tr>\n",
       "  </tbody>\n",
       "</table>\n",
       "</div>"
      ],
      "text/plain": [
       "  species     island  culmen_length_mm  culmen_depth_mm  flipper_length_mm  \\\n",
       "0  Adelie  Torgersen              39.1             18.7              181.0   \n",
       "1  Adelie  Torgersen              39.5             17.4              186.0   \n",
       "2  Adelie  Torgersen              40.3             18.0              195.0   \n",
       "3  Adelie  Torgersen               NaN              NaN                NaN   \n",
       "4  Adelie  Torgersen              36.7             19.3              193.0   \n",
       "\n",
       "   body_mass_g     sex  \n",
       "0       3750.0    MALE  \n",
       "1       3800.0  FEMALE  \n",
       "2       3250.0  FEMALE  \n",
       "3          NaN     NaN  \n",
       "4       3450.0  FEMALE  "
      ]
     },
     "execution_count": 20,
     "metadata": {},
     "output_type": "execute_result"
    }
   ],
   "source": [
    "import pandas as pd\n",
    "df = pd.read_csv(\"https://drive.google.com/uc?id=1y84HuLlwI8mmibaM1KT2Q1puWwn32Xq1\")\n",
    "df.head()"
   ]
  },
  {
   "cell_type": "markdown",
   "metadata": {
    "id": "6xXgfWY2_Dty"
   },
   "source": [
    "## Tu tarea\n",
    "Implemente una función que **reciba** un dataset (`df`) y que:\n",
    "- **Elimine** los valores nulos del dataset.\n",
    "- Convierta las columnas categóricas `[\"species\"], [\"island\"], [\"sex\"]` a numéricas.\n",
    "- Considere a la columna `[\"sex\"]` como el ground truth.\n",
    "- Lleve a cabo un entrenamiento mediante la variante `leave one out` de cross validation.\n",
    "- El estimador a ser entrenado debe ser un `SVC` con parámetros `kernel=\"poly\", random_state=21`\n",
    "- Determine la cantidad de iteraciones necesaria para ser considerado `leave one out`.<br>\n",
    "**Devuelva** dicha cantidad.\n",
    "- La métrica a evaluar será `accuracy_score`\n",
    "- **Devuelva** el promedio de los resultados obtenidos\n",
    "- **Devuelva** la desviación de los resultados obtenidos\n",
    "\n",
    "<br>\n",
    "\n",
    "<ins>**Nota:**</ins> puede utilizar la función `pd.factorize` de pandas para convertir columnas categóricas, a numéricas:\n",
    "\n",
    "https://pandas.pydata.org/docs/reference/api/pandas.factorize.html"
   ]
  },
  {
   "cell_type": "code",
   "execution_count": 21,
   "metadata": {
    "id": "doI_jnSiHcW7"
   },
   "outputs": [],
   "source": [
    "#@title **code student**\n",
    "\n",
    "\n",
    "def taller05_20252_p05(df):\n",
    "  import pandas as pd\n",
    "  import numpy as np\n",
    "  from sklearn.svm import SVC\n",
    "  from sklearn.model_selection import train_test_split\n",
    "  from sklearn.metrics import accuracy_score \n",
    "  from sklearn.model_selection import cross_val_score\n",
    "  from sklearn.metrics import make_scorer\n",
    "  from sklearn.model_selection import LeaveOneOut\n",
    "  \n",
    "  np.random.seed(21)\n",
    "\n",
    "  df = df.dropna().copy()\n",
    "  df[\"species\"] = df[\"species\"].factorize()[0]\n",
    "  df[\"island\"] = df[\"island\"].factorize()[0]\n",
    "  df[\"sex\"] = df[\"sex\"].factorize()[0]\n",
    "  \n",
    "  y = df[\"sex\"]\n",
    "  x = df.drop(\"sex\", axis=1) \n",
    "  est = SVC(kernel='poly', random_state=21)\n",
    "  loo = LeaveOneOut()\n",
    "  \n",
    "  iters = loo.get_n_splits(x)\n",
    "  \n",
    "  s = cross_val_score(est, x, y, cv=loo, scoring=make_scorer(accuracy_score))\n",
    "  \n",
    "  \n",
    "  return iters, np.mean(s), np.std(s)"
   ]
  },
  {
   "cell_type": "code",
   "execution_count": 22,
   "metadata": {
    "id": "Sf546N_MHmXO"
   },
   "outputs": [
    {
     "data": {
      "text/plain": [
       "(334, np.float64(0.5778443113772455), np.float64(0.4939030908854514))"
      ]
     },
     "execution_count": 22,
     "metadata": {},
     "output_type": "execute_result"
    }
   ],
   "source": [
    "#@title **check your answer**\n",
    "import pandas as pd\n",
    "import numpy as np\n",
    "import matplotlib.pyplot as plt\n",
    "\n",
    "df = pd.read_csv(\"https://drive.google.com/uc?id=1y84HuLlwI8mmibaM1KT2Q1puWwn32Xq1\")\n",
    "taller05_20252_p05(df)"
   ]
  },
  {
   "cell_type": "markdown",
   "metadata": {
    "id": "_ksuR4oS47F1"
   },
   "source": [
    "## ✅ Salidas esperadas\n",
    "\n",
    "(334, np.float64(0.5778443113772455), np.float64(0.4939030908854514))\n"
   ]
  },
  {
   "cell_type": "code",
   "execution_count": 23,
   "metadata": {
    "id": "nnhpEceg8qiT"
   },
   "outputs": [
    {
     "name": "stdout",
     "output_type": "stream",
     "text": [
      "{\n",
      "    \"score\": 5.0,\n",
      "    \"message\": [\n",
      "        \"Excellent, all leave-one-out metrics are correct.\"\n",
      "    ]\n",
      "}\n",
      "Score\n",
      "\t5.0\n",
      "Message\n",
      "\tExcellent, all leave-one-out metrics are correct.\n"
     ]
    }
   ],
   "source": [
    "#@title **send your answer**\n",
    "student_func_str = inspect.getsource(taller05_20252_p05)\n",
    "r = check_solution_and_evaluate(assignment_id, student_func_str)"
   ]
  },
  {
   "cell_type": "markdown",
   "metadata": {
    "id": "lWUAscibLBc9"
   },
   "source": [
    "---\n",
    "<img src=\"https://gitlab.com/bivl2ab/academico/cursos-uis/ai/ai-uis-student/raw/master/imgs/bannerThanks.jpg\" alt=\"Drawing\" style=\"width:700px;\"/>"
   ]
  }
 ],
 "metadata": {
  "colab": {
   "provenance": []
  },
  "kernelspec": {
   "display_name": "Python 3",
   "name": "python3"
  },
  "language_info": {
   "codemirror_mode": {
    "name": "ipython",
    "version": 3
   },
   "file_extension": ".py",
   "mimetype": "text/x-python",
   "name": "python",
   "nbconvert_exporter": "python",
   "pygments_lexer": "ipython3",
   "version": "3.11.9"
  }
 },
 "nbformat": 4,
 "nbformat_minor": 0
}
