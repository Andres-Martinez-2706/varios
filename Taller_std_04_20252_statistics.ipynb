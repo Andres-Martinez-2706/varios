{
 "cells": [
  {
   "cell_type": "markdown",
   "metadata": {
    "id": "grKZ7Xesyjm0"
   },
   "source": [
    "<img src=\"https://gitlab.com/bivl2ab/academico/cursos-uis/ai/ai-uis-student/raw/master/imgs/banner_IA.png\"  width=\"1000px\" height=\"200px\">\n",
    "\n",
    "# **Taller 04:  Statistics**\n",
    "\n",
    "## **Outline**\n",
    "\n",
    "1. [Ejercicio 1.](#eje1)\n",
    "2. [Ejercicio 2.](#eje2)\n",
    "3. [Ejercicio 3.](#eje3)\n",
    "4. [Ejercicio 4.](#eje4)\n",
    "5. [Ejercicio 5.](#eje5)\n",
    "\n"
   ]
  },
  {
   "cell_type": "code",
   "execution_count": 3,
   "metadata": {
    "cellView": "form",
    "colab": {
     "base_uri": "https://localhost:8080/",
     "height": 35
    },
    "executionInfo": {
     "elapsed": 8,
     "status": "ok",
     "timestamp": 1759762417138,
     "user": {
      "displayName": "Yeison Ovalle",
      "userId": "03143605093801566956"
     },
     "user_tz": 300
    },
    "id": "Ic9xabc8Hvy2",
    "outputId": "c7e6189a-1518-447b-b046-25a39e900c3b"
   },
   "outputs": [
    {
     "data": {
      "text/plain": [
       "\"\\nPut your student ID here\\n\\nExample: student_id =  '2152145'\\n\""
      ]
     },
     "execution_count": 3,
     "metadata": {},
     "output_type": "execute_result"
    }
   ],
   "source": [
    "#@title **Execute this cell**\n",
    "#@markdown Please include your student id\n",
    "import sys\n",
    "import inspect\n",
    "\n",
    "group_id = \"IA1-20252-G1\" #@param {type:\"string\"}\n",
    "assignment_id = group_id +'.taller_statistic'\n",
    "student_id = \"2225112\" #@param {type:\"string\"}\n",
    "\"\"\"\n",
    "Put your student ID here\n",
    "\n",
    "Example: student_id =  '2152145'\n",
    "\"\"\""
   ]
  },
  {
   "cell_type": "code",
   "execution_count": 4,
   "metadata": {
    "cellView": "form",
    "executionInfo": {
     "elapsed": 38,
     "status": "ok",
     "timestamp": 1759762418965,
     "user": {
      "displayName": "Yeison Ovalle",
      "userId": "03143605093801566956"
     },
     "user_tz": 300
    },
    "id": "HoNtDObzy4d-"
   },
   "outputs": [],
   "source": [
    " #@title **Execute this cell**\n",
    "#@markdown **UTILS**\n",
    "#@markdown Please dont modify any line in this cell\n",
    "\n",
    "import os\n",
    "import json\n",
    "import requests\n",
    "from collections import namedtuple\n",
    "\n",
    "\n",
    "Config = namedtuple('Config', ['server_name'])\n",
    "config = Config(server_name='https://bivlabgrader.azurewebsites.net/api')\n",
    "\n",
    "\n",
    "def check_solution_and_evaluate(assignment_id: str, student_func_str: str):\n",
    "\n",
    "    # Set the endpoint and payload.\n",
    "    payload = {\n",
    "        'func_str': student_func_str,\n",
    "        'assignment_id': assignment_id,\n",
    "        'student_id': student_id\n",
    "    }\n",
    "    endpoint_url = config.server_name + '/CheckAndEvaluateSolution'\n",
    "    # print(endpoint_url)\n",
    "\n",
    "    # Make request to server with the data coming from the notebook.\n",
    "    r = requests.post(endpoint_url, params=payload)\n",
    "    pprint_json_response(r.json())\n",
    "    return r\n",
    "\n",
    "\n",
    "def pprint_json_response(response, indent=0):\n",
    "    \"\"\"Pretty print the response.\"\"\"\n",
    "    for key, value in response.items():\n",
    "        print('\\t' * indent + str(key.capitalize()))\n",
    "\n",
    "        # If dictionary, do a recurrent call.\n",
    "        if isinstance(value, dict):\n",
    "            pprint_json_response(value, indent + 1)\n",
    "        else:\n",
    "            # Enumerate elements if list.\n",
    "            if isinstance(value, list):\n",
    "                if len(value) == 1:\n",
    "                    print('\\t' * (indent + 1) + str(value[0]))\n",
    "                else:\n",
    "                    for i, e in enumerate(value, start=1):\n",
    "                        print('\\t' * (indent + 1) + f'{i}. {e}')\n",
    "            else:\n",
    "                print('\\t' * (indent + 1) + str(value))"
   ]
  },
  {
   "cell_type": "code",
   "execution_count": 19,
   "metadata": {
    "executionInfo": {
     "elapsed": 11,
     "status": "ok",
     "timestamp": 1759762430802,
     "user": {
      "displayName": "Yeison Ovalle",
      "userId": "03143605093801566956"
     },
     "user_tz": 300
    },
    "id": "aEJwAMtC0KOp"
   },
   "outputs": [],
   "source": [
    "#@title **Import libraries**\n",
    "\n",
    "import matplotlib.pyplot as plt\n",
    "import numpy as np\n",
    "np.random.seed(21)"
   ]
  },
  {
   "cell_type": "markdown",
   "metadata": {
    "id": "x_6ht_FU3Ycj"
   },
   "source": [
    "---\n",
    "# **Ejercicio 1**  <a name=\"eje1\"></a>\n",
    "---"
   ]
  },
  {
   "cell_type": "markdown",
   "metadata": {
    "id": "s2thz25v3b68"
   },
   "source": [
    "# Distribución normal por aproximación (forma empírica)\n",
    "\n",
    "## Contexto\n",
    "La forma **empírica** para determinar una distribución normal, partiendo de un conjunto de muestras relativamente grande, corresponde a calcular su promedio y desviación estándar, para luego crear una aproximación a dicha distribución.<br>\n",
    "Por otra parte, se tiene también la forma **analítica**, que determina la distribución normal por medio del promedio y desviación estándar de la población.\n",
    "\n",
    "\n",
    "## Tu tarea\n",
    "Desarrolle una función que **reciba** una muestra (`ns`) de valores numéricos y calcule:\n",
    "- Cree una distribución normal (`n1`) con promedio 7 y  desviación estándar 0.7 <ins>(No aplique la fórmula del CLT analítico)</ins>.\n",
    "- Cree una distribución normal **empírica** (`emp`) por medio del promedio y la desviación estándar de la muestra (`ns`) recibida.\n",
    "- Calcule un intervalo de valores (`x`), entre 4 y 10 con 500 valores.\n",
    "- **Devuelva** la <ins>distribución</ins> `n1`\n",
    "- **Devuelva** la <ins>distribución empirica</ins> `emp`\n",
    "- **Devuelva** el intervalo de valores `x`\n",
    "- **Devuelva** el <ins>promedio</ins> de la muestra recibida"
   ]
  },
  {
   "cell_type": "code",
   "execution_count": 6,
   "metadata": {
    "executionInfo": {
     "elapsed": 6,
     "status": "ok",
     "timestamp": 1759762621541,
     "user": {
      "displayName": "Yeison Ovalle",
      "userId": "03143605093801566956"
     },
     "user_tz": 300
    },
    "id": "Om0rxBun3Wex"
   },
   "outputs": [],
   "source": [
    "#@title **code student**\n",
    "\n",
    "def taller04_20252_p01(ns):\n",
    "    from scipy import stats\n",
    "    import numpy as np\n",
    "    np.random.seed(21)\n",
    "\n",
    "    n1 = stats.norm(loc=7, scale=0.7)\n",
    "    emp = stats.norm(loc=np.mean(ns), scale=np.std(ns))\n",
    "    x = np.linspace(4, 10, 500)\n",
    "    avg = np.mean(ns)\n",
    "\n",
    "    return n1, emp, x, avg"
   ]
  },
  {
   "cell_type": "code",
   "execution_count": 7,
   "metadata": {
    "colab": {
     "base_uri": "https://localhost:8080/",
     "height": 435
    },
    "executionInfo": {
     "elapsed": 1110,
     "status": "ok",
     "timestamp": 1759762624883,
     "user": {
      "displayName": "Yeison Ovalle",
      "userId": "03143605093801566956"
     },
     "user_tz": 300
    },
    "id": "yCThRZ-QEZc0",
    "outputId": "8767eb12-c759-41fb-a16f-3810070afda9"
   },
   "outputs": [
    {
     "data": {
      "image/png": "[encoded data removed]",
      "text/plain": [
       "<Figure size 640x480 with 1 Axes>"
      ]
     },
     "metadata": {},
     "output_type": "display_data"
    }
   ],
   "source": [
    "#@title **check your answer**\n",
    "import numpy as np\n",
    "import matplotlib.pyplot as plt\n",
    "from scipy import stats\n",
    "\n",
    "b = np.random.normal(7, 0.7, 10000)\n",
    "\n",
    "a, e, x, avg = taller04_20252_p01(b)\n",
    "d1 = a.pdf(x)\n",
    "d2 = e.pdf(x)\n",
    "plt.plot(x, d1, label=\"Analytic\")\n",
    "plt.plot(x, d2, label=\"Empirical\")\n",
    "plt.axvline(x=avg, color='blue', linestyle='--')\n",
    "plt.text(6.95, 0.57, \"$\\\\mu=$\"+str(avg)[:5])\n",
    "plt.xlim([6.9, 7.1])\n",
    "plt.ylim([0.565, 0.571])\n",
    "plt.legend()\n",
    "plt.show()"
   ]
  },
  {
   "cell_type": "markdown",
   "metadata": {
    "id": "EjngkljNQ6Jy"
   },
   "source": [
    "## ✅ Salidas esperadas\n",
    "\n",
    "<img src=\"https://drive.google.com/thumbnail?id=1cE441DrI7zZvsoxAbm4v3ficqBduCpjE&sz=w600\" />"
   ]
  },
  {
   "cell_type": "code",
   "execution_count": 8,
   "metadata": {
    "colab": {
     "base_uri": "https://localhost:8080/"
    },
    "executionInfo": {
     "elapsed": 11835,
     "status": "ok",
     "timestamp": 1759762645682,
     "user": {
      "displayName": "Yeison Ovalle",
      "userId": "03143605093801566956"
     },
     "user_tz": 300
    },
    "id": "27D6EuJ74pw-",
    "outputId": "fd3877fb-3460-4c9e-809c-754f4629afb0"
   },
   "outputs": [
    {
     "name": "stdout",
     "output_type": "stream",
     "text": [
      "Score\n",
      "\t5.0\n",
      "Message\n",
      "\tExcellent, you got the highest score.\n"
     ]
    }
   ],
   "source": [
    "#@title **send your answer**\n",
    "student_func_str = inspect.getsource(taller04_20252_p01)\n",
    "r = check_solution_and_evaluate(assignment_id, student_func_str)"
   ]
  },
  {
   "cell_type": "markdown",
   "metadata": {
    "id": "xi09XP3ZAiiP"
   },
   "source": [
    "---\n",
    "# **Ejercicio 2**  <a name=\"eje2\"></a>\n",
    "---"
   ]
  },
  {
   "cell_type": "markdown",
   "metadata": {
    "id": "h1pqchILAoQv"
   },
   "source": [
    "# Distribución con múltiples gaussianas\n",
    "\n",
    "## Contexto\n",
    "En ocasiones, algunos fenómenos de la ingeniería se comportan con una combinación de dos o más distribuciones normales. En estos casos, es posible describir una distribución con múltiples gaussianas mediante sus promedios y desviaciones estándar. Posteriormente, se acostumbra a ponderar cada gaussiana con algún método determinado.\n",
    "\n",
    "## Tu Tarea\n",
    "\n",
    "Complete la función que reciba un número (`n`) de muestras y que haga un muestreo en donde:\n",
    "\n",
    "- El 30% de las (`n`) muestras **provenga** de una distribución normal $\\sim \\mathcal{N}(3, \\ 1.5)$\n",
    "- El 70% de las (`n`) muestras **provenga** de una distribución normal $\\sim \\mathcal{N}(7, \\ 0.7)$\n",
    "- **Devuelva** la <ins>**PERMUTACIÓN**</ins> de las (`n`) muestras provenientes de las dos distribuciones en total.\n",
    "<br>\n",
    "\n",
    "<ins>**Nota:**</ins> utilice la función `np.random.normal()`<br>\n",
    "https://numpy.org/doc/stable/reference/random/generated/numpy.random.normal.html\n",
    "<br><br>\n",
    "<ins>**Nota:**</ins> utilice la función `np.random.permutation()`<br> https://numpy.org/doc/2.0/reference/random/generated/numpy.random.permutation.html"
   ]
  },
  {
   "cell_type": "code",
   "execution_count": 9,
   "metadata": {
    "executionInfo": {
     "elapsed": 10,
     "status": "ok",
     "timestamp": 1759763255822,
     "user": {
      "displayName": "Yeison Ovalle",
      "userId": "03143605093801566956"
     },
     "user_tz": 300
    },
    "id": "DN2ahWNOEGZ4"
   },
   "outputs": [],
   "source": [
    "#@title **code student**\n",
    "\n",
    "def taller04_20252_p02(n):\n",
    "    import numpy as np\n",
    "    np.random.seed(21)\n",
    "\n",
    "    m = np.random.permutation(np.concatenate((np.random.normal(3, 1.5, int(n*0.3)), np.random.normal(7, 1, int(n*0.7)))))\n",
    "\n",
    "    return m"
   ]
  },
  {
   "cell_type": "code",
   "execution_count": 10,
   "metadata": {
    "colab": {
     "base_uri": "https://localhost:8080/",
     "height": 253
    },
    "executionInfo": {
     "elapsed": 216,
     "status": "ok",
     "timestamp": 1759763259714,
     "user": {
      "displayName": "Yeison Ovalle",
      "userId": "03143605093801566956"
     },
     "user_tz": 300
    },
    "id": "6YK-yxyAEMsA",
    "outputId": "4d1cbd9b-3670-4e34-e367-cb876f689996"
   },
   "outputs": [
    {
     "data": {
      "image/png": "[encoded data removed]",
      "text/plain": [
       "<Figure size 500x250 with 1 Axes>"
      ]
     },
     "metadata": {},
     "output_type": "display_data"
    }
   ],
   "source": [
    "#@title **check your answer**\n",
    "import matplotlib.pyplot as plt\n",
    "import numpy as np\n",
    "\n",
    "a = taller04_20252_p02(100000)\n",
    "\n",
    "plt.figure(figsize=(5, 2.5))\n",
    "plt.hist(a, bins=100)\n",
    "plt.show()"
   ]
  },
  {
   "cell_type": "markdown",
   "metadata": {
    "id": "7LegmF57Wuvh"
   },
   "source": [
    "## ✅ Salidas esperadas\n",
    "\n",
    "<img src=\"https://drive.google.com/thumbnail?id=1My3Yv5L2E-WDHzxx0NK5pwxycCOb8oX0&sz=w600\" />"
   ]
  },
  {
   "cell_type": "code",
   "execution_count": 11,
   "metadata": {
    "colab": {
     "base_uri": "https://localhost:8080/"
    },
    "executionInfo": {
     "elapsed": 9601,
     "status": "ok",
     "timestamp": 1759763276012,
     "user": {
      "displayName": "Yeison Ovalle",
      "userId": "03143605093801566956"
     },
     "user_tz": 300
    },
    "id": "R-Mx3FogErMk",
    "outputId": "59afe69e-e7ca-4c2d-9772-48ba01c7f8bd"
   },
   "outputs": [
    {
     "name": "stdout",
     "output_type": "stream",
     "text": [
      "Score\n",
      "\t5.0\n",
      "Message\n",
      "\tExcellent, you got the highest score.\n"
     ]
    }
   ],
   "source": [
    "#@title **send your answer**\n",
    "student_func_str = inspect.getsource(taller04_20252_p02)\n",
    "r = check_solution_and_evaluate(assignment_id, student_func_str)"
   ]
  },
  {
   "cell_type": "markdown",
   "metadata": {
    "id": "FPk-vYL30z3H"
   },
   "source": [
    "---\n",
    "# **Ejercicio 3**  <a name=\"eje3\"></a>\n",
    "---"
   ]
  },
  {
   "cell_type": "markdown",
   "metadata": {
    "id": "ES7KrNKU0z3I"
   },
   "source": [
    "## Distribución de Poisson\n",
    "\n",
    "## Contexto\n",
    "La distribución de Poisson se utiliza para describir fenómenos cuya ocurrencia es poco frecuente y está dada por la expresión:\n",
    "$$P(x) = \\frac{\\lambda^{x} e^{-\\lambda}}{x!}$$\n",
    "\n",
    "## Tu tarea\n",
    "\n",
    "Complete la siguiente función que **reciba** un número (`a`) que corresponde al límite inferior, y un número (`b`) que será el límite superior, y que:\n",
    "\n",
    "- Obtenga $10000$ muestras de una distribución de Poisson **aproximada** con $\\lambda = 4$\n",
    "- **Devuelva** las 10000 muestras.\n",
    "- Calcule la probabilidad **aproximada** de obtener elementos tales que $a \\leq x \\leq b$ &nbsp;&nbsp; $\\frac{eventos}{intervalo-tiempo}$.\n",
    "- **Devuelva** dicha probabilidad (`prob1`).\n",
    "\n",
    "- Obtenga $10000$ muestras de una distribución de Poisson **ANALÍTICA (EXACTA)** con $\\lambda = 4$\n",
    "- **Devuelva** las 10000 muestras.\n",
    "\n",
    "- Calcule la probabilidad **ANALÍTICA (EXACTA)** de obtener elementos tales que $a \\leq x \\leq b$ &nbsp;&nbsp; $\\frac{eventos}{intervalo-tiempo}$.\n",
    "- **Devuelva** dicha probabilidad (`prob2`).\n",
    "<br>\n",
    "\n",
    "<ins>**Nota:**</ins> utilice la función `np.random.poisson()`<br>\n",
    "https://numpy.org/doc/2.2/reference/random/generated/numpy.random.poisson.html\n"
   ]
  },
  {
   "cell_type": "code",
   "execution_count": 26,
   "metadata": {
    "executionInfo": {
     "elapsed": 43,
     "status": "ok",
     "timestamp": 1759765000383,
     "user": {
      "displayName": "Yeison Ovalle",
      "userId": "03143605093801566956"
     },
     "user_tz": 300
    },
    "id": "w9NRhOuC1_KU"
   },
   "outputs": [],
   "source": [
    "#@title **code student**\n",
    "\n",
    "def taller04_20252_p03(a,b):\n",
    "  import numpy as np\n",
    "  import math\n",
    "  from scipy.stats import poisson\n",
    "  np.random.seed(21)\n",
    "\n",
    "  x = np.random.poisson(4, 10000)\n",
    "  prob1 = np.mean((x >= a) & (x <= b))\n",
    "  r = np.random.poisson(4, 10000)\n",
    "  #prob2 = np.sum((r >= a) & (r <= b))/10000\n",
    "  #prob2 = poisson.cdf(b, 4) - poisson.cdf(a - 1, 4)\n",
    "  \n",
    "  prob2 = 0\n",
    "  for k in range(a, b + 1):\n",
    "    prob2 += poisson.pmf(k, 4)\n",
    "  return x, prob1, r, prob2"
   ]
  },
  {
   "cell_type": "code",
   "execution_count": 27,
   "metadata": {
    "colab": {
     "base_uri": "https://localhost:8080/",
     "height": 430
    },
    "executionInfo": {
     "elapsed": 154,
     "status": "ok",
     "timestamp": 1759765003743,
     "user": {
      "displayName": "Yeison Ovalle",
      "userId": "03143605093801566956"
     },
     "user_tz": 300
    },
    "id": "P9LCmBx82TgZ",
    "outputId": "28076929-432e-4878-85dd-2031c5073148"
   },
   "outputs": [
    {
     "data": {
      "image/png": "[encoded data removed]",
      "text/plain": [
       "<Figure size 640x480 with 1 Axes>"
      ]
     },
     "metadata": {},
     "output_type": "display_data"
    }
   ],
   "source": [
    "#@title **check your answer**\n",
    "import numpy as np\n",
    "from scipy.special import factorial\n",
    "\n",
    "a = 2\n",
    "b = 7\n",
    "x, y, v, w = taller04_20252_p03(a, b)\n",
    "t = np.arange(0,20,0.1)\n",
    "d = np.exp(-5)*np.power(5, t)/factorial(t)\n",
    "\n",
    "plt.plot(t, d, marker=\"o\")\n",
    "plt.show()"
   ]
  },
  {
   "cell_type": "markdown",
   "metadata": {
    "id": "9dmpF7-T5H3x"
   },
   "source": [
    "## ✅ Salidas esperadas\n",
    "<img src=\"https://drive.google.com/thumbnail?id=1TpI-qrrY95Pg7cMqvbttCronvXxc-HTg&sz=w600\" />\n"
   ]
  },
  {
   "cell_type": "code",
   "execution_count": 28,
   "metadata": {
    "colab": {
     "base_uri": "https://localhost:8080/"
    },
    "executionInfo": {
     "elapsed": 2751,
     "status": "ok",
     "timestamp": 1759764970073,
     "user": {
      "displayName": "Yeison Ovalle",
      "userId": "03143605093801566956"
     },
     "user_tz": 300
    },
    "id": "m1vRcPBE5WC-",
    "outputId": "72c00f49-e54c-4a87-cde6-deffcbf147fb"
   },
   "outputs": [
    {
     "name": "stdout",
     "output_type": "stream",
     "text": [
      "Score\n",
      "\t3.333333333333333\n",
      "Message\n",
      "\t1. The approximate probability is not correct.\n",
      "\t2. The exact probability is not correct.\n",
      "Status\n",
      "\tYou have achieved your best score: 3.333333333333333\n"
     ]
    }
   ],
   "source": [
    "#@title **send your answer**\n",
    "student_func_str = inspect.getsource(taller04_20252_p03)\n",
    "r = check_solution_and_evaluate(assignment_id, student_func_str)"
   ]
  },
  {
   "cell_type": "markdown",
   "metadata": {
    "id": "g6Rct60M7MgD"
   },
   "source": [
    "---\n",
    "# **Ejercicio 4**  <a name=\"eje4\"></a>\n",
    "---"
   ]
  },
  {
   "cell_type": "markdown",
   "metadata": {
    "id": "wE_Ec4sU7MgE"
   },
   "source": [
    "## Probabilidad en un intervalo definido\n",
    "\n",
    "## Contexto\n",
    "Se tienen dos distribuciones estadísticas:<br>\n",
    "$\\mathcal{N}_{1}(5.28, 0.91)$ &nbsp;&nbsp; y &nbsp;&nbsp; $\\mathcal{N}_{2}(8.45, 1.36)$\n",
    "\n",
    "y además, se conoce el valor en el eje horizontal que corresponde a la intersección de sus pdf (Probability density function):\n",
    "\n",
    "<img src=\"https://drive.google.com/thumbnail?id=1QOhSdVfJDWNnZVpFwFvIMdkUAwkTluJl&sz=w800\" />\n",
    "\n",
    "\n",
    "\n",
    "## Tu tarea\n",
    "\n",
    "Implementar una función que **reciba** como parámetro la intersección (`int`) entre las dos distribuciones anteriores, y que:\n",
    "- Calcule la probabilidad del area coloreada en verde\n",
    "- **Devuelva** dicha probabilidad\n",
    "\n",
    "<ins>**Nota:**</ins> asuma que el valor de la intersección es &nbsp; $x=6.70458$"
   ]
  },
  {
   "cell_type": "code",
   "execution_count": 30,
   "metadata": {
    "executionInfo": {
     "elapsed": 14,
     "status": "ok",
     "timestamp": 1759765904235,
     "user": {
      "displayName": "Yeison Ovalle",
      "userId": "03143605093801566956"
     },
     "user_tz": 300
    },
    "id": "65IDCQY77MgE"
   },
   "outputs": [],
   "source": [
    "#@title **code student**\n",
    "\n",
    "def taller04_20252_p04(ins):\n",
    "  import numpy as np\n",
    "  from scipy import stats\n",
    "  np.random.seed(21)\n",
    "\n",
    "  n1 = stats.norm(loc=5.28, scale=0.91)\n",
    "  n2 = stats.norm(loc=8.45, scale=1.36)\n",
    "    \n",
    "  p = (1 - n1.cdf(ins)) + n2.cdf(ins)\n",
    "\n",
    "  return p"
   ]
  },
  {
   "cell_type": "code",
   "execution_count": 31,
   "metadata": {
    "colab": {
     "base_uri": "https://localhost:8080/",
     "height": 447
    },
    "executionInfo": {
     "elapsed": 494,
     "status": "ok",
     "timestamp": 1759765907004,
     "user": {
      "displayName": "Yeison Ovalle",
      "userId": "03143605093801566956"
     },
     "user_tz": 300
    },
    "id": "x-ZoxYT_7MgE",
    "outputId": "98d0ea8c-0874-4310-a720-651552ac61c4"
   },
   "outputs": [
    {
     "name": "stdout",
     "output_type": "stream",
     "text": [
      "0.15841257895451555\n"
     ]
    },
    {
     "data": {
      "image/png": "[encoded data removed]",
      "text/plain": [
       "<Figure size 640x480 with 1 Axes>"
      ]
     },
     "metadata": {},
     "output_type": "display_data"
    }
   ],
   "source": [
    "#@title **check your answer**\n",
    "import numpy as np\n",
    "from scipy import stats\n",
    "import matplotlib.pyplot as plt\n",
    "\n",
    "print(taller04_20252_p04(6.70458))\n",
    "\n",
    "n1 = stats.norm(loc=5.28, scale=0.91)\n",
    "n2 = stats.norm(loc=8.45, scale=1.36)\n",
    "t = np.linspace(0,15,500)\n",
    "plt.plot(t, n1.pdf(t))\n",
    "plt.plot(t, n2.pdf(t))\n",
    "for i in np.linspace(4, 6.7, 50):\n",
    "  plt.vlines(x=i, ymin=0, ymax=n2.pdf(i), color='limegreen', linestyle='-')\n",
    "for i in np.linspace(6.7, 8.5, 30):\n",
    "  plt.vlines(x=i, ymin=0, ymax=n1.pdf(i), color='limegreen', linestyle='-')\n",
    "plt.text(7, 0.35, \"$int: x=6.70458$\")\n",
    "plt.vlines(x=6.7, ymin=0, ymax=n2.pdf(6.70458), color='black', linestyle='--')\n",
    "plt.show()"
   ]
  },
  {
   "cell_type": "markdown",
   "metadata": {
    "id": "DQSLghSP7MgE"
   },
   "source": [
    "## ✅ Salidas esperadas\n",
    "0.15841257895451555<br>\n",
    "<img src=\"https://drive.google.com/thumbnail?id=1QOhSdVfJDWNnZVpFwFvIMdkUAwkTluJl&sz=w800\" />"
   ]
  },
  {
   "cell_type": "code",
   "execution_count": 32,
   "metadata": {
    "colab": {
     "base_uri": "https://localhost:8080/"
    },
    "executionInfo": {
     "elapsed": 2765,
     "status": "ok",
     "timestamp": 1759765915802,
     "user": {
      "displayName": "Yeison Ovalle",
      "userId": "03143605093801566956"
     },
     "user_tz": 300
    },
    "id": "GVnHEkGV7MgE",
    "outputId": "ac3cfe3f-46c1-495d-8d16-8f13b1185a02"
   },
   "outputs": [
    {
     "name": "stdout",
     "output_type": "stream",
     "text": [
      "Score\n",
      "\t5.0\n",
      "Message\n",
      "\tExcellent, you got the highest score.\n"
     ]
    }
   ],
   "source": [
    "#@title **send your answer**\n",
    "student_func_str = inspect.getsource(taller04_20252_p04)\n",
    "r = check_solution_and_evaluate(assignment_id, student_func_str)"
   ]
  },
  {
   "cell_type": "markdown",
   "metadata": {
    "id": "-nYFZ52dG71k"
   },
   "source": [
    "---\n",
    "# **Ejercicio 5**  <a name=\"eje5\"></a>\n",
    "---"
   ]
  },
  {
   "cell_type": "markdown",
   "metadata": {
    "id": "Aflo4IAVHGp_"
   },
   "source": [
    "# CLT sobre un dataset\n",
    "\n",
    "## Contexto:\n",
    "Considere el dataset `FiveYearData.csv` el cual contiene información sobre la expectativa de vida y el gdp de diferentes países del mundo.\n",
    "\n",
    "\n",
    "## Tu tarea\n",
    "Implemente una función que **reciba** un dataset (`df`) y que:\n",
    "- **Elimine** los valores nulos del dataset.\n",
    "- Tome como población a la columna `[\"gdpPercap\"]` y calcule su promedio y desviación.\n",
    "- Aplique el teorema del límite central (CLT) a dicha columna, con `N=10` y `100` combinaciones posibles, y:\n",
    "- Obtenga mediante la forma <ins>empírica</ins>, la distribución normal aproximada.\n",
    "- **Devuelva** la distribución normal **empírica**.\n",
    "- Obtenga mediante la forma <ins>analítica</ins>, la distribución normal aproximada.\n",
    "- **Devuelva** la distribución normal **analítica**.\n",
    "- Para la distribución normal **analítica**:\n",
    "  - **Devuelva** el elemento ubicado en el `Percent point function` (`ppf`) para un valor de 1.\n",
    "  - **Devuelva** el elemento ubicado en el `Percent point function` (`ppf`) para un valor de 99.\n"
   ]
  },
  {
   "cell_type": "code",
   "execution_count": 33,
   "metadata": {
    "executionInfo": {
     "elapsed": 8,
     "status": "ok",
     "timestamp": 1759766487908,
     "user": {
      "displayName": "Yeison Ovalle",
      "userId": "03143605093801566956"
     },
     "user_tz": 300
    },
    "id": "doI_jnSiHcW7"
   },
   "outputs": [],
   "source": [
    "#@title **code student**\n",
    "\n",
    "def taller04_20252_p05(df):\n",
    "    import pandas as pd\n",
    "    import numpy as np\n",
    "    from scipy import stats\n",
    "\n",
    "    np.random.seed(21)\n",
    "\n",
    "    # 1. Eliminar valores nulos\n",
    "    df = df.dropna()\n",
    "\n",
    "    # 2. Extraer la población\n",
    "    pop = df[\"gdpPercap\"]\n",
    "    avg = np.mean(pop)\n",
    "    std = np.std(pop)\n",
    "\n",
    "    # 3. Forma empírica: 100 combinaciones de medias de muestras de tamaño N=10\n",
    "    N = 10\n",
    "    sample_means = []\n",
    "    for _ in range(100):\n",
    "        sample = np.random.choice(pop, size=N, replace=True)\n",
    "        sample_means.append(np.mean(sample))\n",
    "    emp = stats.norm(loc=np.mean(sample_means), scale=np.std(sample_means))\n",
    "\n",
    "    # 4. Forma analítica: distribución normal con media poblacional y desviación ajustada\n",
    "    analytic = stats.norm(loc=avg, scale=std / np.sqrt(N))\n",
    "\n",
    "    # 5. Percent point function (ppf) para valores 1 y 99\n",
    "    ppf_1 = analytic.ppf(0.01)\n",
    "    ppf_99 = analytic.ppf(0.99)\n",
    "\n",
    "    return emp, analytic, ppf_1, ppf_99\n"
   ]
  },
  {
   "cell_type": "code",
   "execution_count": 34,
   "metadata": {
    "colab": {
     "base_uri": "https://localhost:8080/",
     "height": 430
    },
    "executionInfo": {
     "elapsed": 1942,
     "status": "ok",
     "timestamp": 1759766491969,
     "user": {
      "displayName": "Yeison Ovalle",
      "userId": "03143605093801566956"
     },
     "user_tz": 300
    },
    "id": "Sf546N_MHmXO",
    "outputId": "eb2b95ea-1122-4a17-b660-b66d92d49b3d"
   },
   "outputs": [
    {
     "data": {
      "image/png": "[encoded data removed]",
      "text/plain": [
       "<Figure size 640x480 with 1 Axes>"
      ]
     },
     "metadata": {},
     "output_type": "display_data"
    }
   ],
   "source": [
    "#@title **check your answer**\n",
    "import pandas as pd\n",
    "import numpy as np\n",
    "import matplotlib.pyplot as plt\n",
    "\n",
    "df = pd.read_csv(\"https://drive.google.com/uc?id=1T9kXNhw2qZlYT8moenOKxJnUOQL5DiiG\")\n",
    "a = taller04_20252_p05(df)\n",
    "t = np.linspace(-4000,18000,15000)\n",
    "plt.plot(t, a[0].pdf(t), label=\"empiric\")\n",
    "plt.plot(t, a[1].pdf(t), label=\"analytic\")\n",
    "plt.vlines(x=a[2], ymin=0, ymax=a[1].pdf(a[2]), color='black', linestyle=':')\n",
    "plt.vlines(x=a[3], ymin=0, ymax=a[1].pdf(a[3]), color='black', linestyle=':')\n",
    "plt.text(-1000, 0.00004, \"ppf(0.01)\\n\"+str(a[2])[:6])\n",
    "plt.text(13000, 0.00004, \"ppf(0.99)\\n\"+str(a[3])[:8])\n",
    "plt.legend()\n",
    "plt.show()"
   ]
  },
  {
   "cell_type": "markdown",
   "metadata": {
    "id": "_ksuR4oS47F1"
   },
   "source": [
    "## ✅ Salidas esperadas\n",
    "\n",
    "<img src=\"https://drive.google.com/thumbnail?id=1KU02hRus2Qn1sXUSI8lw2mWb3pttyIYV&sz=w800\" />\n"
   ]
  },
  {
   "cell_type": "code",
   "execution_count": 35,
   "metadata": {
    "colab": {
     "base_uri": "https://localhost:8080/"
    },
    "executionInfo": {
     "elapsed": 15697,
     "status": "ok",
     "timestamp": 1759766516290,
     "user": {
      "displayName": "Yeison Ovalle",
      "userId": "03143605093801566956"
     },
     "user_tz": 300
    },
    "id": "nnhpEceg8qiT",
    "outputId": "838ee7e1-1014-4452-a5ba-8818a383a75f"
   },
   "outputs": [
    {
     "name": "stdout",
     "output_type": "stream",
     "text": [
      "Score\n",
      "\t5.0\n",
      "Message\n",
      "\tExcellent, you got the highest score.\n"
     ]
    }
   ],
   "source": [
    "#@title **send your answer**\n",
    "student_func_str = inspect.getsource(taller04_20252_p05)\n",
    "r = check_solution_and_evaluate(assignment_id, student_func_str)"
   ]
  },
  {
   "cell_type": "markdown",
   "metadata": {
    "id": "lWUAscibLBc9"
   },
   "source": [
    "---\n",
    "<img src=\"https://gitlab.com/bivl2ab/academico/cursos-uis/ai/ai-uis-student/raw/master/imgs/bannerThanks.jpg\" alt=\"Drawing\" style=\"width:700px;\"/>"
   ]
  }
 ],
 "metadata": {
  "colab": {
   "provenance": []
  },
  "kernelspec": {
   "display_name": "Python 3",
   "name": "python3"
  },
  "language_info": {
   "codemirror_mode": {
    "name": "ipython",
    "version": 3
   },
   "file_extension": ".py",
   "mimetype": "text/x-python",
   "name": "python",
   "nbconvert_exporter": "python",
   "pygments_lexer": "ipython3",
   "version": "3.11.9"
  }
 },
 "nbformat": 4,
 "nbformat_minor": 0
}
