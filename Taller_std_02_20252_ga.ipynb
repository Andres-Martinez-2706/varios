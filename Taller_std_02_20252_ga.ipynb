{
  "cells": [
    {
      "cell_type": "markdown",
      "metadata": {
        "id": "grKZ7Xesyjm0"
      },
      "source": [
        "<img src=\"https://gitlab.com/bivl2ab/academico/cursos-uis/ai/ai-uis-student/raw/master/imgs/banner_IA.png\"  width=\"1000px\" height=\"200px\">\n",
        "\n",
        "# **Taller 02:  Genetic Algorithms**\n",
        "\n",
        "## **Outline**\n",
        "\n",
        "1. [Ejercicio 1.](#eje1)\n",
        "2. [Ejercicio 2.](#eje2)\n",
        "3. [Ejercicio 3.](#eje3)\n",
        "4. [Ejercicio 4.](#eje4)\n",
        "5. [Ejercicio 5.](#eje5)\n",
        "6. [Ejercicio 6.](#eje6)\n",
        "\n"
      ]
    },
    {
      "cell_type": "code",
      "execution_count": 1,
      "metadata": {
        "cellView": "form",
        "colab": {
          "base_uri": "https://localhost:8080/",
          "height": 35
        },
        "id": "Ic9xabc8Hvy2",
        "outputId": "ff8203b7-640c-42e4-d910-f03c3cf665cc"
      },
      "outputs": [
        {
          "data": {
            "text/plain": [
              "\"\\nPut your student ID here\\n\\nExample: student_id =  '2152145'\\n\""
            ]
          },
          "execution_count": 1,
          "metadata": {},
          "output_type": "execute_result"
        }
      ],
      "source": [
        "#@title **Execute this cell**\n",
        "#@markdown Please include your student id\n",
        "import sys\n",
        "import inspect\n",
        "\n",
        "group_id = \"IA1-20252-G1\" #@param {type:\"string\"}\n",
        "assignment_id = group_id +'.taller_ga'\n",
        "student_id = \"2225112\" #@param {type:\"string\"}\n",
        "\"\"\"\n",
        "Put your student ID here\n",
        "\n",
        "Example: student_id =  '2152145'\n",
        "\"\"\""
      ]
    },
    {
      "cell_type": "code",
      "execution_count": 2,
      "metadata": {
        "cellView": "form",
        "id": "HoNtDObzy4d-"
      },
      "outputs": [],
      "source": [
        " #@title **Execute this cell**\n",
        "#@markdown **UTILS**\n",
        "#@markdown Please dont modify any line in this cell\n",
        "\n",
        "import os\n",
        "import json\n",
        "import requests\n",
        "from collections import namedtuple\n",
        "\n",
        "\n",
        "Config = namedtuple('Config', ['server_name'])\n",
        "config = Config(server_name='https://bivlabgrader.azurewebsites.net/api')\n",
        "\n",
        "\n",
        "def check_solution_and_evaluate(assignment_id: str, student_func_str: str):\n",
        "\n",
        "    # Set the endpoint and payload.\n",
        "    payload = {\n",
        "        'func_str': student_func_str,\n",
        "        'assignment_id': assignment_id,\n",
        "        'student_id': student_id\n",
        "    }\n",
        "    endpoint_url = config.server_name + '/CheckAndEvaluateSolution'\n",
        "    # print(endpoint_url)\n",
        "\n",
        "    # Make request to server with the data coming from the notebook.\n",
        "    r = requests.post(endpoint_url, params=payload)\n",
        "    pprint_json_response(r.json())\n",
        "    return r\n",
        "\n",
        "\n",
        "def pprint_json_response(response, indent=0):\n",
        "    \"\"\"Pretty print the response.\"\"\"\n",
        "    for key, value in response.items():\n",
        "        print('\\t' * indent + str(key.capitalize()))\n",
        "\n",
        "        # If dictionary, do a recurrent call.\n",
        "        if isinstance(value, dict):\n",
        "            pprint_json_response(value, indent + 1)\n",
        "        else:\n",
        "            # Enumerate elements if list.\n",
        "            if isinstance(value, list):\n",
        "                if len(value) == 1:\n",
        "                    print('\\t' * (indent + 1) + str(value[0]))\n",
        "                else:\n",
        "                    for i, e in enumerate(value, start=1):\n",
        "                        print('\\t' * (indent + 1) + f'{i}. {e}')\n",
        "            else:\n",
        "                print('\\t' * (indent + 1) + str(value))"
      ]
    },
    {
      "cell_type": "code",
      "execution_count": 3,
      "metadata": {
        "cellView": "form",
        "id": "aEJwAMtC0KOp"
      },
      "outputs": [],
      "source": [
        "#@title **Import libraries**\n",
        "\n",
        "import matplotlib.pyplot as plt\n",
        "import numpy as np\n",
        "np.random.seed(21)"
      ]
    },
    {
      "cell_type": "markdown",
      "metadata": {
        "id": "2mBWjIhKk6Wi"
      },
      "source": []
    },
    {
      "cell_type": "markdown",
      "metadata": {
        "id": "NPaHMz_kqBI4"
      },
      "source": [
        "# **Problema: Encontrar la raiz de una función convexa**\n",
        "\n",
        "Las **funciones convexas** (*un \"tazón hacia arriba\"*) son esenciales en **inteligencia artificial**. Por ejemplo, si medimos cuanto aprende un método por el error de sus predicciones, podemos hacer métodos para que logren encontrar el valor **CERO ERROR** de esta función. Un ejemplo de estas funciones se ilustra en la siguiente figura:\n",
        "\n",
        "\n",
        "<img src=\"https://gitlab.com/bivl2ab/academico/cursos-uis/ai/ai-uis-student/-/raw/master/imgs/funcion_convexa.png\">\n",
        "\n",
        "🚨 **Desafio**\n",
        "\n",
        "Para una función convexa $f(x) = x²-4$ (ejemplo de este notebook) vamos a generar soluciones aleatorias (números codificados como cadenas binarias) y utilizando **algoritmos genéticos** vamos a tratar de encontrar la solución correcta (valor de x, donde f(x) es cero).\n",
        "\n",
        "Como soporte de este notebook, te dejamos las siguientes funciones:\n",
        "- dibujo de la función $f(x) = x²-4$\n",
        "- función para generar arreglos binarios de longitud fija. La cual es la base para generar nuestras posibles soluciones.\n",
        "- función que convierte un arreglo binario a un numero decimal.\n"
      ]
    },
    {
      "cell_type": "code",
      "execution_count": 4,
      "metadata": {
        "cellView": "form",
        "colab": {
          "base_uri": "https://localhost:8080/",
          "height": 564
        },
        "id": "vfFfmcnBnhZw",
        "outputId": "4357129f-d933-4cc7-c769-862c3b18bb32"
      },
      "outputs": [
        {
          "data": {
            "image/png": "[encoded data removed]",
            "text/plain": [
              "<Figure size 800x600 with 1 Axes>"
            ]
          },
          "metadata": {},
          "output_type": "display_data"
        }
      ],
      "source": [
        "#@title función $f(x) = x²-4$\n",
        "import matplotlib.pyplot as plt\n",
        "import numpy as np\n",
        "\n",
        "def convex_function(x):\n",
        "  import numpy as np\n",
        "#   y = (x-2)**2\n",
        "  y = (x**2) - 4\n",
        "  return y\n",
        "\n",
        "# Generamos el dominio X de la funcion\n",
        "x_values = np.linspace(-9, 11, 100)\n",
        "\n",
        "# Calculamos la salida de la funcion para cada uno de los elementos en el dominio\n",
        "y_values = convex_function(x_values)\n",
        "\n",
        "# Graficamos\n",
        "plt.figure(figsize=(8, 6))\n",
        "plt.plot(x_values, y_values, label='f(x) = x^2 - 4')\n",
        "plt.title('Plot of a Convex Function')\n",
        "plt.xlabel('x')\n",
        "plt.ylabel('f(x)')\n",
        "plt.grid(True)\n",
        "plt.legend()\n",
        "plt.show()"
      ]
    },
    {
      "cell_type": "code",
      "execution_count": 5,
      "metadata": {
        "id": "KVZ_dZBLsMvY"
      },
      "outputs": [],
      "source": [
        "#@title Función para generar arreglos binarios de longitud fija\n",
        "def gen_binary_array_number(num_bits):\n",
        "  import numpy as np\n",
        "  return np.random.randint(0,2, size=num_bits)\n"
      ]
    },
    {
      "cell_type": "code",
      "execution_count": 6,
      "metadata": {
        "id": "tXFZnn43oJby"
      },
      "outputs": [],
      "source": [
        "#@title Funcion que convierte un arreglo binario a un numero decimal\n",
        "def gen_decimal_value(binary_array, num_bits, min_val, max_val):\n",
        "  import numpy as np\n",
        "  powers_of_2 = 2**np.arange(len(binary_array) - 1, -1, -1)\n",
        "  int_val = np.dot(binary_array, powers_of_2)\n",
        "  decimal_value = min_val + int_val * (max_val - min_val) / (2**num_bits - 1)\n",
        "  #print(int_val, decimal_value)\n",
        "  return decimal_value"
      ]
    },
    {
      "cell_type": "markdown",
      "metadata": {
        "id": "k7JeO76z0p8r"
      },
      "source": [
        "---\n",
        "# **Ejercicio 1**  <a name=\"eje1\"></a>\n",
        "---"
      ]
    },
    {
      "cell_type": "markdown",
      "metadata": {
        "id": "_ih3lZdVsFNc"
      },
      "source": [
        "## **Generacion de poblacion**\n",
        "\n",
        "En los algoritmos genéticos, ``el primer paso consiste en crear una población inicial de posibles soluciones``. Cada individuo de esta población representa una solución candidata al problema, y suele codificarse como una cadena binaria.\n",
        "\n",
        "En este caso, cada individuo o posible solución será un arreglo de bits (ceros y unos), cuya longitud está determinada por el número de bits (genes) que usemos para representar posibles valores de ``x``\n",
        "\n",
        "### **Objetivo**\n",
        "\n",
        "Implementar una función (``convex_initialize_population``), la cual recibe como parámetros ``n_individuals, num_bits`` generando una población inicial de ``n_individuals`` con la cantidad de bits (``num_bits``) que codifican cada solución.\n",
        "\n",
        "### **Ejemplo**\n",
        "\n",
        "Supongamos que se requieren 4 individuos de 5 bits cada uno:\n",
        "\n",
        "```\n",
        "Individuos (binarios)       Equivalente en decimal\n",
        "-------------------------------------------------\n",
        "[1, 0, 1, 0, 1]   --->          21\n",
        "[0, 1, 0, 1, 0]   --->          10\n",
        "[1, 1, 0, 0, 1]   --->          25\n",
        "[0, 0, 0, 1, 1]   --->           3\n",
        "```\n",
        "En este caso cada fila es un candidato de la población inicial.\n"
      ]
    },
    {
      "cell_type": "code",
      "execution_count": 21,
      "metadata": {
        "id": "jUsGyAix0rQl"
      },
      "outputs": [],
      "source": [
        "#@title **code student**\n",
        "def convex_initialize_population(n_individuals, num_bits):\n",
        "\tdef gen_binary_array_number(num_bits):\n",
        "\t\timport numpy as np\n",
        "\t\treturn np.random.randint(0,2, size=num_bits)\n",
        "\timport numpy as np\n",
        "\n",
        "\tr = []\n",
        "\tfor _ in range(n_individuals):\n",
        "  \n",
        "\t\tr.append(gen_binary_array_number(num_bits))\n",
        "\n",
        "\treturn np.array(r)"
      ]
    },
    {
      "cell_type": "markdown",
      "metadata": {
        "id": "gDyPJK1i4dRK"
      },
      "source": [
        "Posterior a esto, la pertinencia de cada una de las posibles soluciones propuestas es medida mediante la función *fitness*, donde las mejores soluciones pasan a un proceso de de *crossover* que puede involucrar procesos de *mutatation*. Para tal fin, es necesario convertir cada arreglo binario en su representación en base decimal (función ``gen_decimal_value``)."
      ]
    },
    {
      "cell_type": "code",
      "execution_count": 18,
      "metadata": {
        "id": "-mKVV4B94jcy"
      },
      "outputs": [],
      "source": [
        "#@title Funcion que convierte un arreglo binario a un numero decimal\n",
        "def gen_decimal_value(binary_array, num_bits, min_val, max_val):\n",
        "  import numpy as np\n",
        "  powers_of_2 = 2**np.arange(len(binary_array) - 1, -1, -1)\n",
        "  int_val = np.dot(binary_array, powers_of_2)\n",
        "  decimal_value = min_val + int_val * (max_val - min_val) / (2**num_bits - 1)\n",
        "  #print(int_val, decimal_value)\n",
        "  return decimal_value"
      ]
    },
    {
      "cell_type": "code",
      "execution_count": 22,
      "metadata": {
        "id": "i22n1nsx13QB"
      },
      "outputs": [
        {
          "name": "stdout",
          "output_type": "stream",
          "text": [
            "Forma (5,6): True\n",
            "Binario: True\n",
            "No siempre iguales: True\n"
          ]
        }
      ],
      "source": [
        "#@title **check your answer**\n",
        "\n",
        "def is_binary_array(arr: np.ndarray):\n",
        "    \"\"\"Verifica que el arreglo sea binario (solo 0 y 1).\"\"\"\n",
        "    if arr.size == 0:\n",
        "        return True\n",
        "    vals = np.unique(arr)\n",
        "    return np.all(np.isin(vals, [0, 1]))\n",
        "\n",
        "tests = []\n",
        "\n",
        "# 1) Tamaño correcto\n",
        "pop = convex_initialize_population(5, 6)\n",
        "tests.append((\"Forma (5,6)\", pop.shape == (5, 6)))\n",
        "\n",
        "# 2) Solo 0 y 1\n",
        "tests.append((\"Binario\", is_binary_array(pop)))\n",
        "\n",
        "# 3) Variabilidad: no siempre el mismo individuo\n",
        "pop2 = convex_initialize_population(5, 6)\n",
        "tests.append((\"No siempre iguales\", not np.array_equal(pop, pop2)))\n",
        "\n",
        "# Mostrar resultados\n",
        "for name, ok in tests:\n",
        "    print(f\"{name}: {ok}\")"
      ]
    },
    {
      "cell_type": "markdown",
      "metadata": {
        "id": "GfKDqKVKdYO0"
      },
      "source": [
        "### Salidas esperadas de la validación\n",
        "```python\n",
        "Forma (5,6): True\n",
        "Binario: True\n",
        "No siempre iguales: True\n"
      ]
    },
    {
      "cell_type": "code",
      "execution_count": 30,
      "metadata": {
        "id": "E6GgQ-Ny2F__"
      },
      "outputs": [
        {
          "name": "stdout",
          "output_type": "stream",
          "text": [
            "Score\n",
            "\t5.0\n",
            "Message\n",
            "\tExcellent, you got the highest score.\n"
          ]
        }
      ],
      "source": [
        "#@title **send your answer**\n",
        "student_func_str = inspect.getsource(convex_initialize_population)\n",
        "r = check_solution_and_evaluate(assignment_id, student_func_str)"
      ]
    },
    {
      "cell_type": "markdown",
      "metadata": {
        "id": "x_6ht_FU3Ycj"
      },
      "source": [
        "---\n",
        "# **Ejercicio 2**  <a name=\"eje2\"></a>\n",
        "---"
      ]
    },
    {
      "cell_type": "markdown",
      "metadata": {
        "id": "s2thz25v3b68"
      },
      "source": [
        "## Funcion de cruce: Crossover por punto medio\n",
        "\n",
        "En algoritmos genéticos, un operador de cruce sencillo consiste en **dividir los cromosomas a la mitad** y **concatenar las partes**:\n",
        "\n",
        "* La **primera mitad** del hijo proviene de la **primera mitad del primer padre**.\n",
        "* La **segunda mitad** del hijo proviene del **segunda mitad del segundo padre**.\n",
        "\n",
        "Este mecanismo permite combinar información de ambos padres de manera simple y eficiente.\n",
        "\n",
        "### Tu tarea\n",
        "\n",
        "Implemente la función **`convex_midpoint_crossover(solution1, solution2)`** que reproduzca este comportamiento. Ambos padres deben tener la **misma longitud**. El punto de corte se calcula mediante la **división entera** de la longitud del arreglo.\n",
        "\n",
        "### Ejemplos\n",
        "\n",
        "#### 1) Longitud par $L=6$\n",
        "\n",
        "**Punto de corte:** $3$ (mitad del arreglo).\n",
        "\n",
        "$$\n",
        "\\text{solution1} = \\big[\\,\\color{teal}{1,\\;0,\\;0},\\;1,\\;1,\\;0\\,\\big]\n",
        "$$\n",
        "\n",
        "$$\n",
        "\\text{solution2} = \\big[\\,0,\\;1,\\;1,\\;\\color{orange}{0,\\;0,\\;1}\\,\\big]\n",
        "$$\n",
        "\n",
        "$$\n",
        "\\text{child} =\n",
        "\\Big[\n",
        "\\underbrace{\\color{teal}{1,\\;0,\\;0}}_{\\text{de solution1}}\\;,\\;\n",
        "\\underbrace{\\color{orange}{0,\\;0,\\;1}}_{\\text{de solution2}}\n",
        "\\Big]\n",
        "$$\n",
        "\n",
        "#### 2) Longitud impar $L=5$\n",
        "\n",
        "**Punto de corte:** $2$ (corte central).\n",
        "\n",
        "$$\n",
        "\\text{solution1} = \\big[\\,\\color{teal}{1,\\;1},\\;1,\\;1,\\;1\\,\\big]\n",
        "$$\n",
        "\n",
        "$$\n",
        "\\text{solution2} = \\big[\\,0,\\;0,\\;\\color{orange}{0,\\;0,\\;0}\\,\\big]\n",
        "$$\n",
        "\n",
        "$$\n",
        "\\text{child} =\n",
        "\\Big[\n",
        "\\underbrace{\\color{teal}{1,\\;1}}_{\\text{de solution1}}\\;,\\;\n",
        "\\underbrace{\\color{orange}{0,\\;0,\\;0}}_{\\text{de solution2}}\n",
        "\\Big]\n",
        "$$\n",
        "\n",
        "\n"
      ]
    },
    {
      "cell_type": "code",
      "execution_count": 27,
      "metadata": {
        "id": "Om0rxBun3Wex"
      },
      "outputs": [],
      "source": [
        "#@title **code student**\n",
        "def convex_midpoint_crossoverr(solution1, solution2):\n",
        "\timport numpy as np\n",
        "\tlong = len(solution1)\n",
        "\tcut = long // 2\n",
        "\tr = np.concatenate((solution1[:cut], solution2[cut:]))\n",
        "\n",
        "\treturn r"
      ]
    },
    {
      "cell_type": "code",
      "execution_count": 28,
      "metadata": {
        "id": "yCThRZ-QEZc0"
      },
      "outputs": [
        {
          "name": "stdout",
          "output_type": "stream",
          "text": [
            "Cruce par: True\n",
            "Cruce impar: True\n",
            "Cruce mixto: True\n"
          ]
        }
      ],
      "source": [
        "#@title **check your answer**\n",
        "\n",
        "import numpy as np\n",
        "\n",
        "# Tests simples para TSP_cross_over\n",
        "tests = []\n",
        "\n",
        "# Caso 1: longitud par\n",
        "s1 = np.array([1, 1, 1, 1])\n",
        "s2 = np.array([0, 0, 0, 0])\n",
        "r = convex_midpoint_crossoverr(s1, s2)\n",
        "tests.append((\"Cruce par\", np.array_equal(r, np.array([1, 1, 0, 0]))))\n",
        "\n",
        "# Caso 2: longitud impar\n",
        "s1 = np.array([1, 1, 1])\n",
        "s2 = np.array([0, 0, 0])\n",
        "r = convex_midpoint_crossoverr(s1, s2)\n",
        "tests.append((\"Cruce impar\", np.array_equal(r, np.array([1, 0, 0]))))\n",
        "\n",
        "# Caso 3: mezcla diferente\n",
        "s1 = np.array([1, 0, 1, 0])\n",
        "s2 = np.array([0, 1, 0, 1])\n",
        "r = convex_midpoint_crossoverr(s1, s2)\n",
        "tests.append((\"Cruce mixto\", np.array_equal(r, np.array([1, 0, 0, 1]))))\n",
        "\n",
        "# Mostrar resultados\n",
        "for name, ok in tests:\n",
        "    print(f\"{name}: {ok}\")"
      ]
    },
    {
      "cell_type": "markdown",
      "metadata": {
        "id": "SzTxtJOAdZ54"
      },
      "source": [
        "### Salidas esperadas de la validación\n",
        "```python\n",
        "Cruce par: True\n",
        "Cruce impar: True\n",
        "Cruce mixto: True\n"
      ]
    },
    {
      "cell_type": "code",
      "execution_count": 29,
      "metadata": {
        "id": "27D6EuJ74pw-"
      },
      "outputs": [
        {
          "name": "stdout",
          "output_type": "stream",
          "text": [
            "Score\n",
            "\t5.0\n",
            "Message\n",
            "\tExcellent, you got the highest score.\n"
          ]
        }
      ],
      "source": [
        "#@title **send your answer**\n",
        "student_func_str = inspect.getsource(convex_midpoint_crossoverr)\n",
        "r = check_solution_and_evaluate(assignment_id, student_func_str)"
      ]
    },
    {
      "cell_type": "markdown",
      "metadata": {
        "id": "xi09XP3ZAiiP"
      },
      "source": [
        "---\n",
        "# **Ejercicio 3**  <a name=\"eje3\"></a>\n",
        "---"
      ]
    },
    {
      "cell_type": "markdown",
      "metadata": {
        "id": "h1pqchILAoQv"
      },
      "source": [
        "## **Funcion de costo**\n",
        "\n",
        "En los algoritmos genéticos, la función de costo (*fitness*) permite medir qué tan buena es cada solución candidata. Es el criterio que guía la evolución:\n",
        "\n",
        "* Las soluciones con menor costo están más cerca de la respuesta correcta.\n",
        "\n",
        "* Las soluciones con mayor costo se consideran peores y tendrán menos probabilidad de ser seleccionadas en las siguientes generaciones.\n",
        "\n",
        "En este problema queremos encontrar la raíz de la función convexa:\n",
        "\n",
        "$$ f(x) = x^{2} - 4$$\n",
        "\n",
        "donde la raiz se alcanza cuando $f(x) = 0$\n",
        "\n",
        "### **Objetivo:**\n",
        "Implementa la función ``convex_cost(solution, num_bits, min_val, max_val)``, tal que:\n",
        "\n",
        "* Decodifique un individuo binario a un valor real $x$ dentro del rango ``[min_val,max_val]``.\n",
        "* Evalúe la función objetivo $f(x) = x^{2}-4$\n",
        "* Devuelva el costo como $|f(x)|$, de modo que **valores cercanos a 0 indiquen mejores soluciones**\n",
        "\n",
        "### **Ejemplo:**\n",
        "\n",
        "Si tenemos un individuo que representa $x = 3$\n",
        "\n",
        "$f(3) = 3²-4 = 9-4 = 5$, el costo será: $|f(3)| = |5| = 5$"
      ]
    },
    {
      "cell_type": "code",
      "execution_count": 31,
      "metadata": {
        "id": "DN2ahWNOEGZ4"
      },
      "outputs": [],
      "source": [
        "#@title **code student**\n",
        "\n",
        "def convex_cost(solution,num_bits, min_val, max_val):\n",
        "\tdef gen_decimal_value(binary_array, num_bits, min_val, max_val):\n",
        "\t\timport numpy as np\n",
        "\t\tpowers_of_2 = 2**np.arange(len(binary_array) - 1, -1, -1)\n",
        "\t\tint_val = np.dot(binary_array, powers_of_2)\n",
        "\t\tdecimal_value = min_val + int_val * (max_val - min_val) / (2**num_bits - 1)\n",
        "\t\t#print(int_val, decimal_value)\n",
        "\t\treturn decimal_value\n",
        "\tdef convex_function(x):\n",
        "\t\timport numpy as np\n",
        "\t\t#   y = (x-2)**2\n",
        "\t\ty = (x**2) - 4\n",
        "\t\treturn y\n",
        "\timport numpy as np\n",
        "\t\n",
        "\tdecimal = gen_decimal_value(solution, num_bits, min_val, max_val)\n",
        "\tf_x = convex_function(decimal)\n",
        "\n",
        "\n",
        "\n",
        "\treturn np.abs(f_x)\n"
      ]
    },
    {
      "cell_type": "code",
      "execution_count": 33,
      "metadata": {
        "colab": {
          "base_uri": "https://localhost:8080/"
        },
        "id": "6YK-yxyAEMsA",
        "outputId": "49f5de17-f5d0-4a54-f06b-2f1b191ba4e3"
      },
      "outputs": [
        {
          "name": "stdout",
          "output_type": "stream",
          "text": [
            "Caso mínimo: True\n",
            "Caso máximo: True\n",
            "Caso intermedio: True\n"
          ]
        }
      ],
      "source": [
        "#@title **check your answer**\n",
        "\n",
        "import numpy as np\n",
        "\n",
        "tests = []\n",
        "\n",
        "# Caso 1: valor binario mínimo → costo debe ser >= 0\n",
        "s = np.array([0, 0, 0, 0])\n",
        "c = convex_cost(s, num_bits=4, min_val=0, max_val=10)\n",
        "tests.append((\"Caso mínimo\", c >= 0))\n",
        "\n",
        "# Caso 2: valor binario máximo → costo >= 0\n",
        "s = np.array([1, 1, 1, 1])\n",
        "c = convex_cost(s, num_bits=4, min_val=0, max_val=10)\n",
        "tests.append((\"Caso máximo\", c >= 0))\n",
        "\n",
        "# Caso 3: algún valor intermedio → costo >= 0\n",
        "s = np.array([1, 0, 0, 1])  # algún valor en binario\n",
        "c = convex_cost(s, num_bits=4, min_val=0, max_val=10)\n",
        "tests.append((\"Caso intermedio\", c >= 0))\n",
        "\n",
        "# Mostrar resultados\n",
        "for name, ok in tests:\n",
        "    print(f\"{name}: {ok}\")\n"
      ]
    },
    {
      "cell_type": "markdown",
      "metadata": {
        "id": "mS0VQU5pdenp"
      },
      "source": [
        "### Salidas esperadas de la validación\n",
        "```python\n",
        "Caso mínimo: True\n",
        "Caso máximo: True\n",
        "Caso intermedio: True"
      ]
    },
    {
      "cell_type": "code",
      "execution_count": 34,
      "metadata": {
        "colab": {
          "base_uri": "https://localhost:8080/"
        },
        "id": "R-Mx3FogErMk",
        "outputId": "9c7e1849-e9a1-4065-cdc8-e54d202d5175"
      },
      "outputs": [
        {
          "name": "stdout",
          "output_type": "stream",
          "text": [
            "Score\n",
            "\t5.0\n",
            "Message\n",
            "\tExcellent, you got the highest score.\n"
          ]
        }
      ],
      "source": [
        "#@title **send your answer**\n",
        "student_func_str = inspect.getsource(convex_cost)\n",
        "r = check_solution_and_evaluate(assignment_id, student_func_str)"
      ]
    },
    {
      "cell_type": "markdown",
      "metadata": {
        "id": "NFWomYgwFblZ"
      },
      "source": [
        "---\n",
        "# **Ejercicio 4** <a name=\"eje4\"></a>\n",
        "---"
      ]
    },
    {
      "cell_type": "markdown",
      "metadata": {
        "id": "Gl5BfPMdF_h2"
      },
      "source": [
        "## Funcion de mutación: Intercambiar cromosomas\n",
        "\n",
        "Una de las formas más usadas para realizar mutaciones en algoritmos genéticos es el **intercambio de cromosomas**. Para este ejercicio, usted deberá:\n",
        "\n",
        "- Recorrer cada cromosoma de la solución\n",
        "- Para cada cromosoma, según la probabilidad de mutación, usted deberá **intercambiar** el cromosoma en la posición (`i`) con el cromosoma de la posición (`j = i+1`).\n",
        "- En caso que el valor de (`i`) se encuentre en la última posición, se deberá asumir que (`j`) será igual al primer elemento (`j = 0`).\n",
        "\n",
        "### Tu tarea\n",
        "\n",
        "Implemente la función **`convex_mutate(solution, mutation_prob)`** de manera que siga las instrucciones anteriores.\n",
        "\n",
        "### Ejemplos\n",
        "\n",
        "#### 1) `i < len(solution)-1`\n",
        "\n",
        "$\\color{red}{i=3}$\n",
        "\n",
        "$\\color{blue}{j \\rightarrow 3+1}$\n",
        "\n",
        "$$\n",
        "\\text{solution} = \\big[\\,\\;0, \\;1, \\;0, \\;\\color{teal}{1}, \\;\\color{orange}{0}, \\;0,\\;1,\\;1 \\; \\big]\n",
        "$$\n",
        "\n",
        "$$\n",
        "\\text{mutated} = \\big[\\,\\;0, \\;1, \\;0, \\;\\color{orange}{0}, \\;\\color{teal}{1}, \\;0,\\;1,\\;1 \\; \\big]\n",
        "$$\n",
        "$$\n",
        "\\enspace\\enspace\\enspace\\enspace\\enspace\\enspace\\enspace\\enspace\\enspace\\enspace\n",
        "\\enspace\\enspace\\enspace\\enspace\\enspace\\enspace\\enspace\\color{red}{[i]}\n",
        "\\color{blue}{[j]}\\enspace\\enspace\\enspace\\enspace\\enspace\\enspace\\enspace$$\n",
        "\n",
        "<br>\n",
        "\n",
        "#### 2) `i == len(solution)-1`\n",
        "\n",
        "$\\color{red}{i=7}$\n",
        "\n",
        "$\\color{blue}{j \\rightarrow 0}$\n",
        "\n",
        "$$\n",
        "\\text{solution} = \\big[\\,\\;\\color{orange}{0}, \\;1, \\;0, \\;1, \\;0, \\;0,\\;1,\\;\\color{teal}{1} \\; \\big]\n",
        "$$\n",
        "\n",
        "$$\n",
        "\\text{mutated} = \\big[\\,\\;\\color{teal}{1}, \\;1, \\;0, \\;1, \\;0, \\;0,\\;1,\\;\\color{orange}{0} \\; \\big]\n",
        "$$\n",
        "$$\n",
        "\\enspace\\enspace\\enspace\\enspace\\enspace\\enspace\\enspace\\enspace\\enspace\\enspace\n",
        "\\color{blue}{[j]}\\enspace\\enspace\\enspace\\enspace\\enspace\\enspace\\enspace\n",
        "\\enspace\\enspace\\enspace\\enspace\\enspace\\enspace\\enspace\\color{red}{[i]}\n",
        "$$"
      ]
    },
    {
      "cell_type": "code",
      "execution_count": 46,
      "metadata": {
        "id": "B_BYe7f6GC8e"
      },
      "outputs": [],
      "source": [
        "#@title **code student**\n",
        "\n",
        "def convex_mutate(solution, mutation_prob):\n",
        "    import numpy as np\n",
        "    \n",
        "    mutated_solution = solution.copy()\n",
        "\n",
        "    for i in range(len(mutated_solution)):\n",
        "        if np.random.random() < mutation_prob:\n",
        "            if i < len(mutated_solution)-1:\n",
        "                aux = mutated_solution[i]\n",
        "                mutated_solution[i] = mutated_solution[i+1]\n",
        "                mutated_solution[i+1] = aux\n",
        "            elif i == len(mutated_solution)-1:\n",
        "                aux = mutated_solution[i]\n",
        "                mutated_solution[i] = mutated_solution[0]\n",
        "                mutated_solution[0] = aux\n",
        "\n",
        "    \n",
        "\n",
        "    return mutated_solution"
      ]
    },
    {
      "cell_type": "code",
      "execution_count": 47,
      "metadata": {
        "id": "xyHdCHyKGLY-"
      },
      "outputs": [
        {
          "name": "stdout",
          "output_type": "stream",
          "text": [
            "p=0.0 sin cambios: True\n",
            "p=1.0 con cambios: True\n",
            "Reproducible con misma semilla: True\n"
          ]
        }
      ],
      "source": [
        "#@title **check your answer**\n",
        "\n",
        "import numpy as np\n",
        "\n",
        "tests = []\n",
        "\n",
        "# Caso 1: mutación prob = 0.0 → no cambia nada\n",
        "s = np.array([0, 1, 1, 0])\n",
        "m = convex_mutate(s, mutation_prob=0.0)\n",
        "tests.append((\"p=0.0 sin cambios\", np.array_equal(s, m)))\n",
        "\n",
        "# Caso 2: mutación prob = 1.0 → debe cambiar (no necesariamente todos, pero al menos alguno)\n",
        "s = np.array([0, 1, 1, 0])\n",
        "m = convex_mutate(s, mutation_prob=1.0)\n",
        "tests.append((\"p=1.0 con cambios\", not np.array_equal(s, m)))\n",
        "\n",
        "# Caso 3: reproducibilidad con misma semilla\n",
        "np.random.seed(42)\n",
        "s = np.array([1, 0, 1, 0])\n",
        "m1 = convex_mutate(s, mutation_prob=0.5)\n",
        "np.random.seed(42)\n",
        "m2 = convex_mutate(s, mutation_prob=0.5)\n",
        "tests.append((\"Reproducible con misma semilla\", np.array_equal(m1, m2)))\n",
        "\n",
        "# Mostrar resultados\n",
        "for name, ok in tests:\n",
        "    print(f\"{name}: {ok}\")\n"
      ]
    },
    {
      "cell_type": "markdown",
      "metadata": {
        "id": "zML4AAWKdplO"
      },
      "source": [
        "### Salidas esperadas de la validación\n",
        "```python\n",
        "p=0.0 sin cambios: True\n",
        "p=1.0 con cambios: True\n",
        "Reproducible con misma semilla: True"
      ]
    },
    {
      "cell_type": "code",
      "execution_count": 48,
      "metadata": {
        "id": "HXQDEKPk8mlf"
      },
      "outputs": [
        {
          "name": "stdout",
          "output_type": "stream",
          "text": [
            "Score\n",
            "\t5.0\n",
            "Message\n",
            "\tExcellent, you got the highest score.\n"
          ]
        }
      ],
      "source": [
        "#@title **send your answer**\n",
        "student_func_str = inspect.getsource(convex_mutate)\n",
        "r = check_solution_and_evaluate(assignment_id, student_func_str)"
      ]
    },
    {
      "cell_type": "code",
      "execution_count": 49,
      "metadata": {
        "id": "S_fv59hx7miW"
      },
      "outputs": [],
      "source": [
        "#@title  **code** Media de la poblacion en una iteracion\n",
        "def get_population_mean_from_binary(pop, num_bits, min_val, max_val):\n",
        "  import numpy as np\n",
        "  decimal_population = []\n",
        "  for i in range(len(pop)):\n",
        "    decimal_population.append(gen_decimal_value(pop[i], num_bits, min_val, max_val))\n",
        "  return np.mean(decimal_population)#[0]\n"
      ]
    },
    {
      "cell_type": "code",
      "execution_count": 50,
      "metadata": {
        "id": "ugR2d_oe7sg1"
      },
      "outputs": [],
      "source": [
        "#@title  **code** GAs implementation\n",
        "import numpy as np\n",
        "import matplotlib.pyplot as plt\n",
        "from tqdm import tqdm_notebook as tqdm\n",
        "\n",
        "\n",
        "\n",
        "def run_ga(pop_size, init_population_function,\n",
        "           mutation_function, crossover_function, cost_function,\n",
        "           mean_pop_func, crossover_prob, mutation_prob, n_iters):\n",
        "\n",
        "    pop = init_population_function(pop_size)\n",
        "\n",
        "    n_xover_indivs = int(pop_size * crossover_prob)\n",
        "\n",
        "    means = []\n",
        "    stds  = []\n",
        "    best_costs = []\n",
        "    best = None\n",
        "    pop_means = []\n",
        "\n",
        "    for i in tqdm(range(n_iters)):\n",
        "\n",
        "        #if i%(n_iters/10)==0:\n",
        "        # print i\n",
        "\n",
        "        # do cross over\n",
        "        offsprings = []\n",
        "        permut_temp = np.random.permutation(len(pop))\n",
        "        idx_xover_indivs = permut_temp[n_xover_indivs:]\n",
        "        #print \"permut_temp: \", permut_temp\n",
        "        #print \"idx_xover_indivs: \", idx_xover_indivs\n",
        "        for idx in idx_xover_indivs:\n",
        "            idx_counterpart = np.random.randint(len(pop))\n",
        "            i1 = pop[idx]\n",
        "            i2 = pop[idx_counterpart]\n",
        "            offs = crossover_function(i1,i2)\n",
        "            #print(offs)\n",
        "            offsprings.append(offs)\n",
        "        offsprings = np.array(offsprings)\n",
        "\n",
        "        pop = np.vstack((pop, offsprings)).astype(int)\n",
        "\n",
        "        # mutate population\n",
        "        for j in range(len(pop)):\n",
        "            pop[j] = mutation_function(pop[j], mutation_prob)\n",
        "\n",
        "        # select best to maintain pop_size fixed\n",
        "        costs = np.array([cost_function(j) for j in pop])\n",
        "        top_idxs  = np.argsort(costs)[:pop_size]\n",
        "        pop = pop[top_idxs]\n",
        "\n",
        "        costs = costs[top_idxs]\n",
        "\n",
        "        pop_means.append(mean_pop_func(pop)) # This line needs to be changed if nece\n",
        "        means.append(np.mean(costs))\n",
        "        stds.append(np.std(costs))\n",
        "        best_costs.append(np.min(costs))\n",
        "\n",
        "        if best is None or np.min(costs) < cost_function(best):\n",
        "             best = pop[np.argmin(costs)]\n",
        "\n",
        "\n",
        "\n",
        "    means      = np.array(means)\n",
        "    stds       = np.array(stds)\n",
        "    best_costs = np.array(best_costs)\n",
        "\n",
        "\n",
        "    return best, best_costs, means, stds, pop_means"
      ]
    },
    {
      "cell_type": "code",
      "execution_count": 52,
      "metadata": {
        "id": "WS3Er1NS7teq"
      },
      "outputs": [
        {
          "name": "stderr",
          "output_type": "stream",
          "text": [
            "C:\\Users\\Lenovo\\AppData\\Local\\Temp\\ipykernel_1124\\4278027940.py:22: TqdmDeprecationWarning: This function will be removed in tqdm==5.0.0\n",
            "Please use `tqdm.notebook.tqdm` instead of `tqdm.tqdm_notebook`\n",
            "  for i in tqdm(range(n_iters)):\n"
          ]
        },
        {
          "data": {
            "application/vnd.jupyter.widget-view+json": {
              "model_id": "0202990f4e82437098f9fe541fd75156",
              "version_major": 2,
              "version_minor": 0
            },
            "text/plain": [
              "  0%|          | 0/100 [00:00<?, ?it/s]"
            ]
          },
          "metadata": {},
          "output_type": "display_data"
        }
      ],
      "source": [
        "num_bits = 10\n",
        "min_val = -10\n",
        "max_val = 10\n",
        "\n",
        "r =  run_ga(pop_size=1000,\n",
        "               init_population_function = lambda x: convex_initialize_population(x, num_bits),\n",
        "               mutation_function        = convex_mutate,\n",
        "               crossover_function       = convex_midpoint_crossoverr,\n",
        "               cost_function            = lambda x: convex_cost(x,num_bits, min_val, max_val),\n",
        "               mean_pop_func            = lambda x: get_population_mean_from_binary(x,num_bits, min_val, max_val),\n",
        "               crossover_prob           = 0.001,\n",
        "               mutation_prob            = 0.1,\n",
        "               n_iters                  = 100)\n",
        "\n",
        "best, best_costs, means, stds, pop_means = r\n",
        "pop_means_np = np.array(pop_means)"
      ]
    },
    {
      "cell_type": "code",
      "execution_count": 53,
      "metadata": {
        "id": "gMs2KTyo7zvQ"
      },
      "outputs": [],
      "source": [
        "#@title  **code** Funcion para graficar la media de la funcion de costo a lo largo de las iteraciones\n",
        "\n",
        "def plot_means_std(means, stds, label_mean=\"Mean\", color_mean=\"blue\", color_band=\"lightblue\"):\n",
        "    \"\"\"\n",
        "    Plot the mean values with a shaded area for mean ± std.\n",
        "\n",
        "    Parameters\n",
        "    ----------\n",
        "    means : array-like\n",
        "        Sequence of mean values.\n",
        "    stds : array-like\n",
        "        Sequence of standard deviations.\n",
        "    label_mean : str, optional\n",
        "        Label for the mean curve.\n",
        "    color_mean : str, optional\n",
        "        Color of the mean curve.\n",
        "    color_band : str, optional\n",
        "        Color of the std shading.\n",
        "    \"\"\"\n",
        "    means = np.array(means)\n",
        "    stds = np.array(stds)\n",
        "    x = range(len(means))\n",
        "\n",
        "    plt.plot(x, means, label=label_mean, color=color_mean)\n",
        "    plt.fill_between(x, means - stds, means + stds,\n",
        "                     color=color_band, alpha=0.3,\n",
        "                     label=f\"{label_mean} ± std\")\n",
        "    plt.xlabel(\"Iteration\")\n",
        "    plt.ylabel(\"Cost\")\n",
        "    plt.legend()\n",
        "    plt.grid(True, linestyle=\"--\", alpha=0.5)\n",
        "    plt.show()\n"
      ]
    },
    {
      "cell_type": "code",
      "execution_count": 54,
      "metadata": {
        "id": "HbClnWbV70oQ"
      },
      "outputs": [
        {
          "data": {
            "image/png": "[encoded data removed]",
            "text/plain": [
              "<Figure size 640x480 with 1 Axes>"
            ]
          },
          "metadata": {},
          "output_type": "display_data"
        }
      ],
      "source": [
        "# Plot only from iteration 20 to 80\n",
        "plot_means_std(means, stds)\n"
      ]
    },
    {
      "cell_type": "code",
      "execution_count": 55,
      "metadata": {
        "id": "f42DVblt8Izq"
      },
      "outputs": [
        {
          "data": {
            "image/png": "[encoded data removed]",
            "text/plain": [
              "<Figure size 800x600 with 1 Axes>"
            ]
          },
          "metadata": {},
          "output_type": "display_data"
        }
      ],
      "source": [
        "#@title  **code** Medias de la poblacion en distintas iteraciones evaluadas en la funcion convexa escogida\n",
        "\n",
        "import matplotlib.pyplot as plt\n",
        "import numpy as npS\n",
        "\n",
        "# Dominio para graficar la función\n",
        "x_values = np.linspace(-9, 11, 300)\n",
        "y_values = convex_function(x_values)\n",
        "\n",
        "# Evaluamos la función en esos puntos\n",
        "pop_means_y = convex_function(pop_means_np)\n",
        "\n",
        "# Compute x-axis limits with 5% margin\n",
        "x_min, x_max = np.min(pop_means_np), np.max(pop_means_np)\n",
        "margin = 0.05 * (x_max - x_min)\n",
        "x_lower, x_upper = x_min - margin, x_max + margin\n",
        "\n",
        "# Domain restricted to this range\n",
        "x_values = np.linspace(x_lower, x_upper, 300)\n",
        "y_values = convex_function(x_values)\n",
        "\n",
        "# Plot\n",
        "plt.figure(figsize=(8, 6))\n",
        "plt.plot(x_values, y_values, label='f(x) = (x-2)^2')\n",
        "plt.scatter(pop_means_np, pop_means_y, color='red', s=60,\n",
        "            label='Medias de población (GA)', zorder=5)\n",
        "#plt.plot(pop_means_np, pop_means_y, color='red', linestyle='--', alpha=0.6)\n",
        "\n",
        "plt.title('Optimización con Algoritmo Genético sobre f(x)')\n",
        "plt.xlabel('x')\n",
        "plt.ylabel('f(x)')\n",
        "plt.grid(True)\n",
        "plt.legend()\n",
        "\n",
        "# Apply x limits\n",
        "plt.xlim(x_lower, x_upper)\n",
        "\n",
        "plt.show()"
      ]
    },
    {
      "cell_type": "markdown",
      "metadata": {
        "id": "mKblE8_S8Poq"
      },
      "source": [
        "# Parte 2\n"
      ]
    },
    {
      "cell_type": "markdown",
      "metadata": {
        "id": "8NGtFH1_8Wku"
      },
      "source": [
        "La funcion de costo que planteamos solo contempla las funciones convexas cuyo minimo sea 0, si queremos hallar verdaderamente un minimo tenemos que remontarnos al calculo diferencial que usa el criterio de cuando $\\dfrac{df}{dx}=0$.\n",
        "\n",
        "Obviamente no queremos complicarnos programando algoritmos que hagan derivacion automatica, nuestro problema es unicamente hallar puntos donde la derivada sea 0 (o bueno, casi ).\n",
        "\n",
        "Con este fin podemos en lugar de computar la derivada, evaluar la pendiente de la funcion en intervalos de $x$ muy pequeños:\n",
        "$$\\dfrac{df}{dx} \\approx \\frac{\\Delta f}{\\Delta x}$$\n",
        "\n",
        "Donde $\\Delta x = x_1 - x_0 \\approx 0$ y $\\Delta f = f(x_1) - (x_0)$"
      ]
    },
    {
      "cell_type": "markdown",
      "metadata": {
        "id": "-nYFZ52dG71k"
      },
      "source": [
        "---\n",
        "# **Ejercicio 5**  <a name=\"eje5\"></a>\n",
        "---"
      ]
    },
    {
      "cell_type": "markdown",
      "metadata": {
        "id": "Aflo4IAVHGp_"
      },
      "source": [
        "## **Segunda función de costo**\n",
        "\n",
        "En algunos casos, no basta con evaluar si una función se acerca a cero: lo que realmente buscamos es encontrar el **mínimo** de la función.  \n",
        "Para ello, podemos usar el criterio del cálculo diferencial: un punto es mínimo cuando  \n",
        "\n",
        "$$\\dfrac{df}{dx} = 0$$\n",
        "\n",
        "En lugar de implementar derivación simbólica, aproximaremos la derivada de forma numérica:\n",
        "\n",
        "$$\\dfrac{df}{dx} \\approx \\frac{f(x + \\Delta x) - f(x)}{\\Delta x}$$\n",
        "\n",
        "\n",
        "con un valor pequeño de $\\Delta x$.\n",
        "\n",
        "### **Objetivo:**\n",
        "Implementa la función `convex_cost2(solution, num_bits, min_val, max_val)`, tal que:\n",
        "\n",
        "* Decodifique un individuo binario a un valor real $x$ dentro del rango `[min_val, max_val]`.  \n",
        "* Evalúe la derivada discreta de $f(x) = x^{2} - 4$.  \n",
        "* Devuelva el costo como el valor absoluto de la derivada, de modo que **valores cercanos a 0 indiquen mejores soluciones** (puntos críticos de la función).\n",
        "\n",
        "### **Ejemplo:**\n",
        "\n",
        "Si el individuo representa $x \\approx 2$  \n",
        "\n",
        "$f(x) = x^{2} - 4 = 0$,  \n",
        "la derivada $f'(x) = 2x \\approx 4$,  \n",
        "y el costo será $|f'(2)| = 0$, lo que indica un mínimo.  "
      ]
    },
    {
      "cell_type": "code",
      "execution_count": 60,
      "metadata": {
        "id": "doI_jnSiHcW7"
      },
      "outputs": [],
      "source": [
        "#@title **code student**\n",
        "\n",
        "def convex_cost2(solution,num_bits, min_val, max_val):\n",
        "\tdef get_discrete_derivative(f, x):\n",
        "\t\tdx = 0.01\n",
        "\t\treturn (f(x+dx)-f(x))/dx\n",
        "\tdef gen_decimal_value(binary_array, num_bits, min_val, max_val):\n",
        "\t\timport numpy as np\n",
        "\t\tpowers_of_2 = 2**np.arange(len(binary_array) - 1, -1, -1)\n",
        "\t\tint_val = np.dot(binary_array, powers_of_2)\n",
        "\t\tdecimal_value = min_val + int_val * (max_val - min_val) / (2**num_bits - 1)\n",
        "\t\t#print(int_val, decimal_value)\n",
        "\t\treturn decimal_value\n",
        "\tdef convex_function(x):\n",
        "\t\timport numpy as np\n",
        "\t\t#   y = (x-2)**2\n",
        "\t\ty = (x**2) - 4\n",
        "\t\treturn y\n",
        "\timport numpy as np\n",
        "\n",
        "\tdecimal = gen_decimal_value(solution, num_bits, min_val, max_val)\n",
        "\tderivative = get_discrete_derivative(convex_function, decimal)\n",
        "\tcost = derivative\n",
        "\n",
        "\t\n",
        "\treturn np.absolute(cost)"
      ]
    },
    {
      "cell_type": "code",
      "execution_count": 61,
      "metadata": {
        "id": "Sf546N_MHmXO"
      },
      "outputs": [
        {
          "name": "stdout",
          "output_type": "stream",
          "text": [
            "Cerca del mínimo (x≈2) → costo ~0: False\n",
            "x=10 → costo grande: True\n",
            "Determinístico: True\n"
          ]
        }
      ],
      "source": [
        "#@title **check your answer**\n",
        "# Check para TSP_cost2 versión 2.1\n",
        "import numpy as np\n",
        "\n",
        "tests = []\n",
        "\n",
        "# Caso 1: Evaluar en el mínimo esperado de f(x) = (x-2)^2\n",
        "# → derivada debe ser ~0\n",
        "s = np.array([0,1,0,0,0,0,0,0,0,0])  # algún binario que mapée cerca de x≈2\n",
        "c = convex_cost2(s, num_bits=10, min_val=-10, max_val=10)\n",
        "tests.append((\"Cerca del mínimo (x≈2) → costo ~0\", c < 1e-2))\n",
        "\n",
        "# Caso 2: Evaluar en un valor muy grande (ej x=10)\n",
        "# → derivada positiva grande, costo grande\n",
        "s = np.ones(10)  # máximo binario\n",
        "c = convex_cost2(s, num_bits=10, min_val=-10, max_val=10)\n",
        "tests.append((\"x=10 → costo grande\", c > 10))\n",
        "\n",
        "# Caso 3: Reproducibilidad (misma entrada → mismo valor)\n",
        "s = np.array([1,0,1,0,1,0,1,0,1,0])\n",
        "c1 = convex_cost2(s, 10, -10, 10)\n",
        "c2 = convex_cost2(s, 10, -10, 10)\n",
        "tests.append((\"Determinístico\", np.isclose(c1, c2)))\n",
        "\n",
        "# Mostrar resultados\n",
        "for name, ok in tests:\n",
        "    print(f\"{name}: {ok}\")\n"
      ]
    },
    {
      "cell_type": "markdown",
      "metadata": {
        "id": "JHA_GcoHdyQF"
      },
      "source": [
        "### Salidas esperadas de la validación\n",
        "```python\n",
        "Cerca del mínimo (x≈2) → costo ~0: False\n",
        "x=10 → costo grande: True\n",
        "Determinístico: True"
      ]
    },
    {
      "cell_type": "code",
      "execution_count": 62,
      "metadata": {
        "id": "nnhpEceg8qiT"
      },
      "outputs": [
        {
          "name": "stdout",
          "output_type": "stream",
          "text": [
            "Score\n",
            "\t5.0\n",
            "Message\n",
            "\tExcellent, you got the highest score.\n"
          ]
        }
      ],
      "source": [
        "#@title **send your answer**\n",
        "student_func_str = inspect.getsource(convex_cost2)\n",
        "r = check_solution_and_evaluate(assignment_id, student_func_str)"
      ]
    },
    {
      "cell_type": "markdown",
      "metadata": {
        "id": "A9MerK-5IGVx"
      },
      "source": [
        "---\n",
        "# **Ejercicio 6**  <a name=\"eje6\"></a>\n",
        "---"
      ]
    },
    {
      "cell_type": "markdown",
      "metadata": {
        "id": "j6D-cTE8IOZd"
      },
      "source": [
        "## Segunda funcion de mutacion: Mutación binaria con probabilidad por gen\n",
        "\n",
        "En los algoritmos genéticos que trabajan con **cromosomas binarios**, una estrategia de mutación muy utilizada consiste en **recorrer cada gen** y, con cierta probabilidad, **cambiar su valor** por la alternativa binaria. Es decir:\n",
        "\n",
        "* Si el gen actual es `0`, pasa a `1`.\n",
        "* Si el gen actual es `1`, pasa a `0`.\n",
        "\n",
        "### Tu Tarea\n",
        "\n",
        "Implemente la función **`convex_mutate2(solution, mutation_prob)`** que:\n",
        "\n",
        "* Reciba como entrada un cromosoma binario `solution`\n",
        "* Recorra cada posición del cromosoma.\n",
        "* Con probabilidad `mutation_prob`, cambie el valor del gen por su **complemento binario** (0 → 1, 1 → 0).\n",
        "* Devuelva la solución mutada como un nuevo arreglo.\n",
        "\n",
        "### Ejemplo\n",
        "\n",
        "Sea un cromosoma de longitud $5$:\n",
        "\n",
        "$$\n",
        "\\text{solution} = [1,\\;0,\\;1,\\;0,\\;1]\n",
        "$$\n",
        "\n",
        "Con una probabilidad de mutación $\\,p = 0.3$, cada gen tiene un 30% de probabilidad de invertirse:\n",
        "\n",
        "$$\n",
        "\\text{mutated\\_solution} = [1,\\;1,\\;1,\\;0,\\;0]\n",
        "$$\n",
        "\n",
        "\n",
        "*(en este caso, los genes en las posiciones 1 y 4 fueron mutados).*"
      ]
    },
    {
      "cell_type": "code",
      "execution_count": 63,
      "metadata": {
        "id": "_-3zL1eIIeuL"
      },
      "outputs": [],
      "source": [
        "#@title **code student**\n",
        "def convex_mutate2(solution, mutation_prob):\n",
        "    import numpy as np\n",
        "    \n",
        "    mutated_solution = solution.copy()\n",
        "\n",
        "    for i in range(len(mutated_solution)):\n",
        "        if np.random.random() < mutation_prob:\n",
        "            if mutated_solution[i] == 0:\n",
        "                mutated_solution[i] = 1\n",
        "            else:\n",
        "                mutated_solution[i] = 0\n",
        "\n",
        "\n",
        "    return mutated_solution"
      ]
    },
    {
      "cell_type": "code",
      "execution_count": 64,
      "metadata": {
        "id": "_V6fvYQVIl7H"
      },
      "outputs": [
        {
          "name": "stdout",
          "output_type": "stream",
          "text": [
            "mutation_prob=0 → debe ser igual a la entrada: True\n",
            "mutation_prob=1 → todos los bits invertidos: True\n",
            "mutation_prob=0.5 → sigue siendo binario: True\n"
          ]
        }
      ],
      "source": [
        "#@title **check your answer**\n",
        "\n",
        "# Check para TSP_mutate2 versión 2.2\n",
        "import numpy as np\n",
        "\n",
        "tests = []\n",
        "\n",
        "# Caso 1: mutation_prob=0 → no debe mutar nada\n",
        "s = np.array([0,1,0,1,1,0])\n",
        "m = convex_mutate2(s, mutation_prob=0)\n",
        "tests.append((\"mutation_prob=0 → debe ser igual a la entrada\", np.array_equal(m, s)))\n",
        "\n",
        "# Caso 2: mutation_prob=1 → todos los bits deben invertirse\n",
        "s = np.array([0,0,1,1])\n",
        "m = convex_mutate2(s, mutation_prob=1)\n",
        "expected = 1 - s\n",
        "tests.append((\"mutation_prob=1 → todos los bits invertidos\", np.array_equal(m, expected)))\n",
        "\n",
        "# Caso 3: mutation_prob intermedio → debe seguir siendo binario y de la misma longitud\n",
        "s = np.array([1,0,1,0,1,0])\n",
        "m = convex_mutate2(s, mutation_prob=0.5)\n",
        "tests.append((\"mutation_prob=0.5 → sigue siendo binario\", (len(m)==len(s)) and np.all(np.isin(m,[0,1]))))\n",
        "\n",
        "# Mostrar resultados\n",
        "for name, ok in tests:\n",
        "    print(f\"{name}: {ok}\")\n"
      ]
    },
    {
      "cell_type": "markdown",
      "metadata": {
        "id": "hGF5jJbbd3Pd"
      },
      "source": [
        "### Salidas esperadas de la validación\n",
        "```python\n",
        "mutation_prob=0 → debe ser igual a la entrada: True\n",
        "mutation_prob=1 → todos los bits invertidos: True\n",
        "mutation_prob=0.5 → sigue siendo binario: True"
      ]
    },
    {
      "cell_type": "code",
      "execution_count": 65,
      "metadata": {
        "id": "Pfj1zqkA8uDu"
      },
      "outputs": [
        {
          "name": "stdout",
          "output_type": "stream",
          "text": [
            "Score\n",
            "\t5.0\n",
            "Message\n",
            "\tExcellent, you got the highest score.\n"
          ]
        }
      ],
      "source": [
        "#@title **send your answer**\n",
        "student_func_str = inspect.getsource(convex_mutate2)\n",
        "r = check_solution_and_evaluate(assignment_id, student_func_str)"
      ]
    },
    {
      "cell_type": "code",
      "execution_count": 66,
      "metadata": {
        "id": "any7vP3K9H-p"
      },
      "outputs": [
        {
          "name": "stderr",
          "output_type": "stream",
          "text": [
            "C:\\Users\\Lenovo\\AppData\\Local\\Temp\\ipykernel_1124\\4278027940.py:22: TqdmDeprecationWarning: This function will be removed in tqdm==5.0.0\n",
            "Please use `tqdm.notebook.tqdm` instead of `tqdm.tqdm_notebook`\n",
            "  for i in tqdm(range(n_iters)):\n"
          ]
        },
        {
          "data": {
            "application/vnd.jupyter.widget-view+json": {
              "model_id": "91b749b115d44579a5ea3a90098f83c7",
              "version_major": 2,
              "version_minor": 0
            },
            "text/plain": [
              "  0%|          | 0/100 [00:00<?, ?it/s]"
            ]
          },
          "metadata": {},
          "output_type": "display_data"
        }
      ],
      "source": [
        "num_bits = 10\n",
        "min_val = -10\n",
        "max_val = 10\n",
        "\n",
        "r =  run_ga(pop_size=1000,\n",
        "               init_population_function = lambda x: convex_initialize_population(x, num_bits),\n",
        "               mutation_function        = convex_mutate2,\n",
        "               crossover_function       = convex_midpoint_crossoverr,\n",
        "               cost_function            = lambda x: convex_cost2(x,num_bits, min_val, max_val),\n",
        "               mean_pop_func            = lambda x: get_population_mean_from_binary(x,num_bits, min_val, max_val),\n",
        "               crossover_prob           = 0.001,\n",
        "               mutation_prob            = 0.1,\n",
        "               n_iters                  = 100)\n",
        "\n",
        "best, best_costs, means, stds, pop_means = r\n",
        "pop_means_np = np.array(pop_means)"
      ]
    },
    {
      "cell_type": "code",
      "execution_count": 67,
      "metadata": {
        "id": "OOUS4Htj9MQ5"
      },
      "outputs": [
        {
          "data": {
            "image/png": "[encoded data removed]",
            "text/plain": [
              "<Figure size 640x480 with 1 Axes>"
            ]
          },
          "metadata": {},
          "output_type": "display_data"
        }
      ],
      "source": [
        "# Plot only from iteration 20 to 80\n",
        "plot_means_std(means, stds)\n"
      ]
    },
    {
      "cell_type": "code",
      "execution_count": 68,
      "metadata": {
        "id": "0OCVxvLx9QL_"
      },
      "outputs": [
        {
          "data": {
            "image/png": "[encoded data removed]",
            "text/plain": [
              "<Figure size 800x600 with 1 Axes>"
            ]
          },
          "metadata": {},
          "output_type": "display_data"
        }
      ],
      "source": [
        "#@title  **code** Medias de la poblacion en distintas iteraciones evaluadas en la funcion convexa escogida\n",
        "\n",
        "import matplotlib.pyplot as plt\n",
        "import numpy as npS\n",
        "\n",
        "# Dominio para graficar la función\n",
        "x_values = np.linspace(-9, 11, 300)\n",
        "y_values = convex_function(x_values)\n",
        "\n",
        "# Evaluamos la función en esos puntos\n",
        "pop_means_y = convex_function(pop_means_np)\n",
        "\n",
        "# Compute x-axis limits with 5% margin\n",
        "x_min, x_max = np.min(pop_means_np), np.max(pop_means_np)\n",
        "margin = 0.05 * (x_max - x_min)\n",
        "x_lower, x_upper = x_min - margin, x_max + margin\n",
        "\n",
        "# Domain restricted to this range\n",
        "x_values = np.linspace(x_lower, x_upper, 300)\n",
        "y_values = convex_function(x_values)\n",
        "\n",
        "# Plot\n",
        "plt.figure(figsize=(8, 6))\n",
        "plt.plot(x_values, y_values, label='f(x) = (x-2)^2')\n",
        "plt.scatter(pop_means_np, pop_means_y, color='red', s=60,\n",
        "            label='Medias de población (GA)', zorder=5)\n",
        "#plt.plot(pop_means_np, pop_means_y, color='red', linestyle='--', alpha=0.6)\n",
        "\n",
        "plt.title('Optimización con Algoritmo Genético sobre f(x)')\n",
        "plt.xlabel('x')\n",
        "plt.ylabel('f(x)')\n",
        "plt.grid(True)\n",
        "plt.legend()\n",
        "\n",
        "# Apply x limits\n",
        "plt.xlim(x_lower, x_upper)\n",
        "\n",
        "plt.show()"
      ]
    },
    {
      "cell_type": "markdown",
      "metadata": {
        "id": "lWUAscibLBc9"
      },
      "source": [
        "---\n",
        "<img src=\"https://gitlab.com/bivl2ab/academico/cursos-uis/ai/ai-uis-student/raw/master/imgs/bannerThanks.jpg\" alt=\"Drawing\" style=\"width:700px;\"/>"
      ]
    }
  ],
  "metadata": {
    "colab": {
      "provenance": []
    },
    "kernelspec": {
      "display_name": "Python 3",
      "name": "python3"
    },
    "language_info": {
      "codemirror_mode": {
        "name": "ipython",
        "version": 3
      },
      "file_extension": ".py",
      "mimetype": "text/x-python",
      "name": "python",
      "nbconvert_exporter": "python",
      "pygments_lexer": "ipython3",
      "version": "3.11.9"
    }
  },
  "nbformat": 4,
  "nbformat_minor": 0
}
